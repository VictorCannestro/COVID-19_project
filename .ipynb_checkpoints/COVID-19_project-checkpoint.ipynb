{
 "cells": [
  {
   "cell_type": "markdown",
   "metadata": {},
   "source": [
    "# Exploring COVID-19 Cases in the US\n",
    "#### Author: Victor Cannestro"
   ]
  },
  {
   "cell_type": "markdown",
   "metadata": {},
   "source": [
    "## Understanding the Methodology Behind and Limitations of the Data\n"
   ]
  },
  {
   "cell_type": "markdown",
   "metadata": {},
   "source": []
  },
  {
   "cell_type": "markdown",
   "metadata": {},
   "source": [
    "## Python Code\n",
    "\n",
    "### Imports"
   ]
  },
  {
   "cell_type": "code",
   "execution_count": 1,
   "metadata": {},
   "outputs": [
    {
     "data": {
      "text/html": [
       "\n",
       "<style>\n",
       ".output_png {\n",
       "    display: table-cell;\n",
       "    text-align: center;\n",
       "    vertical-align: middle;\n",
       "}\n",
       "</style>\n"
      ],
      "text/plain": [
       "<IPython.core.display.HTML object>"
      ]
     },
     "execution_count": 1,
     "metadata": {},
     "output_type": "execute_result"
    }
   ],
   "source": [
    "import numpy as np\n",
    "import pandas as pd\n",
    "import missingno as msn\n",
    "\n",
    "import geopandas\n",
    "from shapely.geometry import Point\n",
    "\n",
    "import matplotlib.pyplot as plt\n",
    "import matplotlib.dates as mdates\n",
    "from matplotlib.dates import DateFormatter\n",
    "\n",
    "import seaborn as sns\n",
    "sns.set(font_scale=1.5) \n",
    "\n",
    "# Handle date time conversions between pandas and matplotlib\n",
    "from pandas.plotting import register_matplotlib_converters\n",
    "register_matplotlib_converters()\n",
    "\n",
    "from bs4 import BeautifulSoup\n",
    "import requests\n",
    "\n",
    "# Code to center plots in the screen\n",
    "from IPython.core.display import HTML \n",
    "HTML(\"\"\"\n",
    "<style>\n",
    ".output_png {\n",
    "    display: table-cell;\n",
    "    text-align: center;\n",
    "    vertical-align: middle;\n",
    "}\n",
    "</style>\n",
    "\"\"\")"
   ]
  },
  {
   "cell_type": "markdown",
   "metadata": {},
   "source": [
    "### Helper Functions for Testing"
   ]
  },
  {
   "cell_type": "code",
   "execution_count": 2,
   "metadata": {},
   "outputs": [],
   "source": [
    "def returns(return_type):\n",
    "    '''Checks that the return type of the decorated function is correct,\n",
    "       and, if not, raises and AssertionError\n",
    "    \n",
    "    Args:\n",
    "        return_type (any return type)\n",
    "    \n",
    "    Returns:\n",
    "        decorator (function):\n",
    "    \n",
    "    Notes: \n",
    "        `return_type` is made available as a free variable to decorator \n",
    "        and wrapper\n",
    "    '''\n",
    "    # Complete the returns() decorator\n",
    "    def decorator(func):\n",
    "        '''Returns the wrapper function'''\n",
    "        def wrapper(*args, **kwargs):\n",
    "            '''Calls function with the given arguments and checks assertion'''\n",
    "            result = func(*args, **kwargs)\n",
    "            assert(type(result) == return_type)\n",
    "            return result\n",
    "        return wrapper\n",
    "    return decorator"
   ]
  },
  {
   "cell_type": "markdown",
   "metadata": {},
   "source": [
    "### Exploring the Time-Series\n",
    "\n",
    "First, we import the county level time-series data gathered by the **NY Times** on Github (without downloading it) using `pd.read_csv()` and parse the retrieved data into an organized, multi-indexed `DataFrame`. The resulting DataFrame will be indexed by `state`, `county`, and `date` and have three columns: `fips`, `cases`, and `deaths`. Here, `fips` stands for the __F__ederal __I__nformation __P__rocessing __S__eries which are the codes most commonly used by the US Census Bureau. To download the data directly into the current working directory, instead, one could call \n",
    "\n",
    "```python\n",
    "import urllib\n",
    "\n",
    "url = \"https://raw.githubusercontent.com/nytimes/covid-19-data/master/us-counties.csv\"\n",
    "filename = 'myfilename.csv'\n",
    "urllib.request.urlretrieve(url, filename)\n",
    "```\n",
    "\n",
    "#### Pandas reminders:\n",
    "[read_csv()](https://pandas.pydata.org/pandas-docs/stable/reference/api/pandas.read_csv.html), [DataFrame()](https://pandas.pydata.org/pandas-docs/stable/reference/api/pandas.DataFrame.html), [MultiIndex](https://pandas.pydata.org/pandas-docs/stable/user_guide/advanced.html), [concat()](https://pandas.pydata.org/pandas-docs/stable/reference/api/pandas.concat.html#pandas.concat)"
   ]
  },
  {
   "cell_type": "code",
   "execution_count": 3,
   "metadata": {},
   "outputs": [
    {
     "data": {
      "text/html": [
       "<div>\n",
       "<style scoped>\n",
       "    .dataframe tbody tr th:only-of-type {\n",
       "        vertical-align: middle;\n",
       "    }\n",
       "\n",
       "    .dataframe tbody tr th {\n",
       "        vertical-align: top;\n",
       "    }\n",
       "\n",
       "    .dataframe thead th {\n",
       "        text-align: right;\n",
       "    }\n",
       "</style>\n",
       "<table border=\"1\" class=\"dataframe\">\n",
       "  <thead>\n",
       "    <tr style=\"text-align: right;\">\n",
       "      <th></th>\n",
       "      <th></th>\n",
       "      <th></th>\n",
       "      <th>fips</th>\n",
       "      <th>cases</th>\n",
       "      <th>deaths</th>\n",
       "    </tr>\n",
       "    <tr>\n",
       "      <th>state</th>\n",
       "      <th>county</th>\n",
       "      <th>date</th>\n",
       "      <th></th>\n",
       "      <th></th>\n",
       "      <th></th>\n",
       "    </tr>\n",
       "  </thead>\n",
       "  <tbody>\n",
       "    <tr>\n",
       "      <th>Virginia</th>\n",
       "      <th>Essex</th>\n",
       "      <th>2020-04-28</th>\n",
       "      <td>51057.0</td>\n",
       "      <td>6</td>\n",
       "      <td>0</td>\n",
       "    </tr>\n",
       "    <tr>\n",
       "      <th>Minnesota</th>\n",
       "      <th>Wabasha</th>\n",
       "      <th>2020-03-29</th>\n",
       "      <td>27157.0</td>\n",
       "      <td>4</td>\n",
       "      <td>0</td>\n",
       "    </tr>\n",
       "    <tr>\n",
       "      <th>Washington</th>\n",
       "      <th>Lincoln</th>\n",
       "      <th>2020-05-22</th>\n",
       "      <td>53043.0</td>\n",
       "      <td>2</td>\n",
       "      <td>0</td>\n",
       "    </tr>\n",
       "    <tr>\n",
       "      <th>California</th>\n",
       "      <th>Los Angeles</th>\n",
       "      <th>2020-04-21</th>\n",
       "      <td>6037.0</td>\n",
       "      <td>15140</td>\n",
       "      <td>663</td>\n",
       "    </tr>\n",
       "    <tr>\n",
       "      <th>Texas</th>\n",
       "      <th>Denton</th>\n",
       "      <th>2020-07-01</th>\n",
       "      <td>48121.0</td>\n",
       "      <td>2951</td>\n",
       "      <td>37</td>\n",
       "    </tr>\n",
       "  </tbody>\n",
       "</table>\n",
       "</div>"
      ],
      "text/plain": [
       "                                      fips  cases  deaths\n",
       "state      county      date                              \n",
       "Virginia   Essex       2020-04-28  51057.0      6       0\n",
       "Minnesota  Wabasha     2020-03-29  27157.0      4       0\n",
       "Washington Lincoln     2020-05-22  53043.0      2       0\n",
       "California Los Angeles 2020-04-21   6037.0  15140     663\n",
       "Texas      Denton      2020-07-01  48121.0   2951      37"
      ]
     },
     "execution_count": 3,
     "metadata": {},
     "output_type": "execute_result"
    }
   ],
   "source": [
    "# URL to NY Times COVID-19 data\n",
    "url = \"https://raw.githubusercontent.com/nytimes/covid-19-data/master/us-counties.csv\"\n",
    "\n",
    "# Read the values, set the indices, parse the dates, and alphabetize\n",
    "df = pd.read_csv(url, \n",
    "                 header=0, \n",
    "                 index_col=['state','county','date'], \n",
    "                 parse_dates=True).sort_index()\n",
    "\n",
    "df.sample(5)"
   ]
  },
  {
   "cell_type": "markdown",
   "metadata": {},
   "source": [
    "Before moving on with further processing let's check to see if there are any missing or suspect values (like negative cases or deaths) in the data and correct them."
   ]
  },
  {
   "cell_type": "code",
   "execution_count": 4,
   "metadata": {},
   "outputs": [],
   "source": [
    "neg_cases = df.cases.values[df.cases.values < 0]\n",
    "assert set(neg_cases) == set(), 'FAILED: there is a negative value' "
   ]
  },
  {
   "cell_type": "code",
   "execution_count": 5,
   "metadata": {},
   "outputs": [],
   "source": [
    "assert len(df[df.cases.isna()]) == 0, 'FAILED: there is a nan value' "
   ]
  },
  {
   "cell_type": "code",
   "execution_count": 6,
   "metadata": {},
   "outputs": [],
   "source": [
    "neg_deaths = df.deaths.values[df.deaths.values < 0]\n",
    "assert set(neg_deaths) == set(), 'FAILED: there is a negative value' "
   ]
  },
  {
   "cell_type": "code",
   "execution_count": 7,
   "metadata": {},
   "outputs": [],
   "source": [
    "assert len(df[df.deaths.isna()]) == 0, 'FAILED: there is a nan value' "
   ]
  },
  {
   "cell_type": "markdown",
   "metadata": {},
   "source": [
    "We can immediately see how easy is is to look up state and county level information using this indexing scheme. Moreover, because the index is sorted by date (which is a collection of `datetime` objects) as well as alphabetically by state and county we can easily isolate the time-series data for each county in preparation for furhter analysis, genreating choropleths, etc. For example, let's peak at the latest King County, WA data:"
   ]
  },
  {
   "cell_type": "code",
   "execution_count": 8,
   "metadata": {},
   "outputs": [
    {
     "data": {
      "text/html": [
       "<div>\n",
       "<style scoped>\n",
       "    .dataframe tbody tr th:only-of-type {\n",
       "        vertical-align: middle;\n",
       "    }\n",
       "\n",
       "    .dataframe tbody tr th {\n",
       "        vertical-align: top;\n",
       "    }\n",
       "\n",
       "    .dataframe thead th {\n",
       "        text-align: right;\n",
       "    }\n",
       "</style>\n",
       "<table border=\"1\" class=\"dataframe\">\n",
       "  <thead>\n",
       "    <tr style=\"text-align: right;\">\n",
       "      <th></th>\n",
       "      <th>fips</th>\n",
       "      <th>cases</th>\n",
       "      <th>deaths</th>\n",
       "    </tr>\n",
       "    <tr>\n",
       "      <th>date</th>\n",
       "      <th></th>\n",
       "      <th></th>\n",
       "      <th></th>\n",
       "    </tr>\n",
       "  </thead>\n",
       "  <tbody>\n",
       "    <tr>\n",
       "      <th>2020-07-24</th>\n",
       "      <td>53033.0</td>\n",
       "      <td>14066</td>\n",
       "      <td>662</td>\n",
       "    </tr>\n",
       "    <tr>\n",
       "      <th>2020-07-25</th>\n",
       "      <td>53033.0</td>\n",
       "      <td>14274</td>\n",
       "      <td>663</td>\n",
       "    </tr>\n",
       "    <tr>\n",
       "      <th>2020-07-26</th>\n",
       "      <td>53033.0</td>\n",
       "      <td>14452</td>\n",
       "      <td>663</td>\n",
       "    </tr>\n",
       "    <tr>\n",
       "      <th>2020-07-27</th>\n",
       "      <td>53033.0</td>\n",
       "      <td>14638</td>\n",
       "      <td>664</td>\n",
       "    </tr>\n",
       "    <tr>\n",
       "      <th>2020-07-28</th>\n",
       "      <td>53033.0</td>\n",
       "      <td>14748</td>\n",
       "      <td>667</td>\n",
       "    </tr>\n",
       "  </tbody>\n",
       "</table>\n",
       "</div>"
      ],
      "text/plain": [
       "               fips  cases  deaths\n",
       "date                              \n",
       "2020-07-24  53033.0  14066     662\n",
       "2020-07-25  53033.0  14274     663\n",
       "2020-07-26  53033.0  14452     663\n",
       "2020-07-27  53033.0  14638     664\n",
       "2020-07-28  53033.0  14748     667"
      ]
     },
     "execution_count": 8,
     "metadata": {},
     "output_type": "execute_result"
    }
   ],
   "source": [
    "king = df.loc[('Washington','King')] # See the latest data for King County\n",
    "king.tail()"
   ]
  },
  {
   "cell_type": "markdown",
   "metadata": {},
   "source": [
    "Notice how the `cases` and `deaths` columns are expressed as the running aggregate values instead of new reported cases and deaths. Let's write a function that will accept the DataFrame and columns we're interested in and compute the difference between consecutive days."
   ]
  },
  {
   "cell_type": "code",
   "execution_count": 9,
   "metadata": {},
   "outputs": [],
   "source": [
    "def dailyChanges(dataframe, cols):\n",
    "    '''\n",
    "    Args:  \n",
    "        dataframe (pandas DataFrame): the input dataframe of cumulative updates\n",
    "        cols (list): list of column labels\n",
    "        \n",
    "    Returns:       \n",
    "        (pandas DataFrame): quantizing the difference between daily values as\n",
    "                            the number of new cases per day\n",
    "    \n",
    "    Notes:\n",
    "    '''\n",
    "    new  = [dataframe[cols].iloc[0]]\n",
    "    \n",
    "    # Loop over each date and take the differences\n",
    "    for i in range(1, len(dataframe)):\n",
    "        new.append(dataframe[cols].iloc[i] - dataframe[cols].iloc[i-1])\n",
    "            \n",
    "    # Convert new into a DataFrame the same indices as dataframe\n",
    "    new_df = pd.DataFrame(data=new, index=dataframe.index)\n",
    "    \n",
    "    # Edit the column names to reflect the daily changes\n",
    "    new_df.columns = ['new_' + name for name in cols]\n",
    "    \n",
    "    return new_df"
   ]
  },
  {
   "cell_type": "code",
   "execution_count": 10,
   "metadata": {},
   "outputs": [
    {
     "data": {
      "text/html": [
       "<div>\n",
       "<style scoped>\n",
       "    .dataframe tbody tr th:only-of-type {\n",
       "        vertical-align: middle;\n",
       "    }\n",
       "\n",
       "    .dataframe tbody tr th {\n",
       "        vertical-align: top;\n",
       "    }\n",
       "\n",
       "    .dataframe thead th {\n",
       "        text-align: right;\n",
       "    }\n",
       "</style>\n",
       "<table border=\"1\" class=\"dataframe\">\n",
       "  <thead>\n",
       "    <tr style=\"text-align: right;\">\n",
       "      <th></th>\n",
       "      <th>new_cases</th>\n",
       "      <th>new_deaths</th>\n",
       "    </tr>\n",
       "    <tr>\n",
       "      <th>date</th>\n",
       "      <th></th>\n",
       "      <th></th>\n",
       "    </tr>\n",
       "  </thead>\n",
       "  <tbody>\n",
       "    <tr>\n",
       "      <th>2020-07-24</th>\n",
       "      <td>229</td>\n",
       "      <td>3</td>\n",
       "    </tr>\n",
       "    <tr>\n",
       "      <th>2020-07-25</th>\n",
       "      <td>208</td>\n",
       "      <td>1</td>\n",
       "    </tr>\n",
       "    <tr>\n",
       "      <th>2020-07-26</th>\n",
       "      <td>178</td>\n",
       "      <td>0</td>\n",
       "    </tr>\n",
       "    <tr>\n",
       "      <th>2020-07-27</th>\n",
       "      <td>186</td>\n",
       "      <td>1</td>\n",
       "    </tr>\n",
       "    <tr>\n",
       "      <th>2020-07-28</th>\n",
       "      <td>110</td>\n",
       "      <td>3</td>\n",
       "    </tr>\n",
       "  </tbody>\n",
       "</table>\n",
       "</div>"
      ],
      "text/plain": [
       "            new_cases  new_deaths\n",
       "date                             \n",
       "2020-07-24        229           3\n",
       "2020-07-25        208           1\n",
       "2020-07-26        178           0\n",
       "2020-07-27        186           1\n",
       "2020-07-28        110           3"
      ]
     },
     "execution_count": 10,
     "metadata": {},
     "output_type": "execute_result"
    }
   ],
   "source": [
    "daily_king = dailyChanges(df.loc[('Washington','King')], ['cases','deaths']).apply(abs)\n",
    "daily_king.tail()"
   ]
  },
  {
   "cell_type": "markdown",
   "metadata": {},
   "source": [
    "The summary statistics of these daily change columns provide us with some broad insights about how King County is being affected:\n",
    "- `mean` \n",
    "   - The average number of reported new cases $\\approx 97$\n",
    "   - The average number of reported new deaths $\\approx 5$\n",
    "   \n",
    "- `max` \n",
    "   - The most reported new cases $\\approx 269$\n",
    "   - The most reported new deaths $\\approx 19$\n",
    "   \n",
    "- $\\dots$"
   ]
  },
  {
   "cell_type": "code",
   "execution_count": 11,
   "metadata": {},
   "outputs": [
    {
     "data": {
      "text/html": [
       "<div>\n",
       "<style scoped>\n",
       "    .dataframe tbody tr th:only-of-type {\n",
       "        vertical-align: middle;\n",
       "    }\n",
       "\n",
       "    .dataframe tbody tr th {\n",
       "        vertical-align: top;\n",
       "    }\n",
       "\n",
       "    .dataframe thead th {\n",
       "        text-align: right;\n",
       "    }\n",
       "</style>\n",
       "<table border=\"1\" class=\"dataframe\">\n",
       "  <thead>\n",
       "    <tr style=\"text-align: right;\">\n",
       "      <th></th>\n",
       "      <th>new_cases</th>\n",
       "      <th>new_deaths</th>\n",
       "    </tr>\n",
       "  </thead>\n",
       "  <tbody>\n",
       "    <tr>\n",
       "      <th>count</th>\n",
       "      <td>152.000000</td>\n",
       "      <td>152.000000</td>\n",
       "    </tr>\n",
       "    <tr>\n",
       "      <th>mean</th>\n",
       "      <td>97.500000</td>\n",
       "      <td>4.480263</td>\n",
       "    </tr>\n",
       "    <tr>\n",
       "      <th>std</th>\n",
       "      <td>62.835958</td>\n",
       "      <td>4.014824</td>\n",
       "    </tr>\n",
       "    <tr>\n",
       "      <th>min</th>\n",
       "      <td>0.000000</td>\n",
       "      <td>0.000000</td>\n",
       "    </tr>\n",
       "    <tr>\n",
       "      <th>25%</th>\n",
       "      <td>48.000000</td>\n",
       "      <td>1.000000</td>\n",
       "    </tr>\n",
       "    <tr>\n",
       "      <th>50%</th>\n",
       "      <td>85.000000</td>\n",
       "      <td>3.000000</td>\n",
       "    </tr>\n",
       "    <tr>\n",
       "      <th>75%</th>\n",
       "      <td>134.500000</td>\n",
       "      <td>6.250000</td>\n",
       "    </tr>\n",
       "    <tr>\n",
       "      <th>max</th>\n",
       "      <td>269.000000</td>\n",
       "      <td>19.000000</td>\n",
       "    </tr>\n",
       "  </tbody>\n",
       "</table>\n",
       "</div>"
      ],
      "text/plain": [
       "        new_cases  new_deaths\n",
       "count  152.000000  152.000000\n",
       "mean    97.500000    4.480263\n",
       "std     62.835958    4.014824\n",
       "min      0.000000    0.000000\n",
       "25%     48.000000    1.000000\n",
       "50%     85.000000    3.000000\n",
       "75%    134.500000    6.250000\n",
       "max    269.000000   19.000000"
      ]
     },
     "execution_count": 11,
     "metadata": {},
     "output_type": "execute_result"
    }
   ],
   "source": [
    "daily_king.describe()"
   ]
  },
  {
   "cell_type": "markdown",
   "metadata": {},
   "source": [
    "Excellent, now we can use the information within `king` to make a variety of graphs to better understand the dynamics of the virus over time and spot any trends that may appear."
   ]
  },
  {
   "cell_type": "code",
   "execution_count": 12,
   "metadata": {},
   "outputs": [],
   "source": [
    "def smoother(dataframe, cols, N=7):\n",
    "    '''\n",
    "    Args:  \n",
    "        dataframe (pandas DataFrame): the input dataframe of cumulative updates\n",
    "        cols (list): column labels\n",
    "        N (int >= 0): number of days to average\n",
    "        \n",
    "    Returns:       \n",
    "        new (pandas DataFrame): smoothed 7-day rolling average\n",
    "    \n",
    "    Notes:\n",
    "        To calculate the n-day average we make use of a generator \n",
    "        expression for readibility and to save memory\n",
    "        \n",
    "        https://www.python.org/dev/peps/pep-0289/\n",
    "    '''\n",
    "    new  = []\n",
    "    \n",
    "    # Loop over each date and take the differences\n",
    "    for i in range(N, len(dataframe)):       \n",
    "        # Generator expression to compute the sum\n",
    "        ave = sum(dataframe[cols].iloc[i-k] for k in [*range(N)]) / N\n",
    "        new.append(ave)\n",
    "            \n",
    "    # Get the indices of the data after the initial N-days and make DataFrame\n",
    "    idx = dataframe.index[N: len(dataframe)]\n",
    "    calc = pd.DataFrame(data=new, index=idx)\n",
    "    \n",
    "    # Append the averaged data to the initial N-days\n",
    "    temp = dataframe[cols].iloc[:N].append(calc)\n",
    "    \n",
    "    # Edit the column name(s) in temp to include 'average'\n",
    "    temp.columns = ['average_' + name for name in cols]\n",
    "    \n",
    "    return temp"
   ]
  },
  {
   "cell_type": "code",
   "execution_count": 13,
   "metadata": {},
   "outputs": [
    {
     "data": {
      "text/html": [
       "<div>\n",
       "<style scoped>\n",
       "    .dataframe tbody tr th:only-of-type {\n",
       "        vertical-align: middle;\n",
       "    }\n",
       "\n",
       "    .dataframe tbody tr th {\n",
       "        vertical-align: top;\n",
       "    }\n",
       "\n",
       "    .dataframe thead th {\n",
       "        text-align: right;\n",
       "    }\n",
       "</style>\n",
       "<table border=\"1\" class=\"dataframe\">\n",
       "  <thead>\n",
       "    <tr style=\"text-align: right;\">\n",
       "      <th></th>\n",
       "      <th>average_new_cases</th>\n",
       "      <th>average_new_deaths</th>\n",
       "    </tr>\n",
       "    <tr>\n",
       "      <th>date</th>\n",
       "      <th></th>\n",
       "      <th></th>\n",
       "    </tr>\n",
       "  </thead>\n",
       "  <tbody>\n",
       "    <tr>\n",
       "      <th>2020-07-26</th>\n",
       "      <td>184.428571</td>\n",
       "      <td>1.000000</td>\n",
       "    </tr>\n",
       "    <tr>\n",
       "      <th>2020-07-27</th>\n",
       "      <td>185.285714</td>\n",
       "      <td>1.000000</td>\n",
       "    </tr>\n",
       "    <tr>\n",
       "      <th>2020-07-28</th>\n",
       "      <td>180.000000</td>\n",
       "      <td>1.142857</td>\n",
       "    </tr>\n",
       "  </tbody>\n",
       "</table>\n",
       "</div>"
      ],
      "text/plain": [
       "            average_new_cases  average_new_deaths\n",
       "date                                             \n",
       "2020-07-26         184.428571            1.000000\n",
       "2020-07-27         185.285714            1.000000\n",
       "2020-07-28         180.000000            1.142857"
      ]
     },
     "execution_count": 13,
     "metadata": {},
     "output_type": "execute_result"
    }
   ],
   "source": [
    "smoothed = smoother(daily_king, ['new_cases','new_deaths'], 7)\n",
    "smoothed.tail(3)"
   ]
  },
  {
   "cell_type": "markdown",
   "metadata": {},
   "source": [
    "To make the [dates on the x-axis look more appealing](https://www.earthdatascience.org/courses/use-data-open-source-python/use-time-series-data-in-python/date-time-types-in-pandas-python/customize-dates-matplotlib-plots-python/) we will use the `DateFormatter` module from `matplotlib` to customize the display format: `\"%X %X\"` where each `%X`  represents:\n",
    "\n",
    "Syntax | Meaning | Example: (July 2020)\n",
    "---|---|---\n",
    "`%Y` | 4 digit year | 2020\n",
    "`%y` | 2 digit year | 20\n",
    "`%m` | month as a number | 07\n",
    "`%b` | month as abbreviated name | Jul\n"
   ]
  },
  {
   "cell_type": "code",
   "execution_count": 14,
   "metadata": {},
   "outputs": [
    {
     "data": {
      "image/png": "[encoded data removed]",
      "text/plain": [
       "<Figure size 936x936 with 2 Axes>"
      ]
     },
     "metadata": {},
     "output_type": "display_data"
    }
   ],
   "source": [
    "fig, ax = plt.subplots(2, figsize=(13,13))\n",
    "\n",
    "plt.style.use('ggplot')\n",
    "\n",
    "# Plot the new reported cases\n",
    "ax[0].bar(daily_king.index, \n",
    "           daily_king.new_cases,  \n",
    "           color='blue',\n",
    "           label='Daily Reported Cases',\n",
    "           alpha=0.7)\n",
    "\n",
    "ax[0].plot(smoothed.index, \n",
    "           smoothed.average_new_cases, \n",
    "           color='black',\n",
    "           alpha=0.8,\n",
    "           label='7-day Average Cases')\n",
    "\n",
    "# Plot the new reported deaths\n",
    "ax[1].bar(daily_king.index, \n",
    "           daily_king.new_deaths, \n",
    "           color='red',\n",
    "           label='Daily Reported Deaths',\n",
    "           alpha=0.7)\n",
    "\n",
    "ax[1].plot(smoothed.index, \n",
    "           smoothed.average_new_deaths, \n",
    "           color='black',\n",
    "           alpha=0.8,\n",
    "           label='7-day Average Deaths')\n",
    "\n",
    "# Set axis labels and titles\n",
    "ax[0].set(title='Reported New Cases King County WA',\n",
    "          ylabel='Daily Cases')\n",
    "ax[1].set(title='Reported New Deaths King County WA',\n",
    "          ylabel='Daily Deaths')\n",
    "\n",
    "# Format the dates displayed on the xaxis\n",
    "date_form = DateFormatter(\"%b\")\n",
    "ax[0].xaxis.set_major_formatter(date_form)\n",
    "ax[1].xaxis.set_major_formatter(date_form)\n",
    "\n",
    "# Show the legend and plots\n",
    "ax[0].legend()\n",
    "ax[1].legend(loc='upper center')\n",
    "plt.show()"
   ]
  },
  {
   "cell_type": "markdown",
   "metadata": {},
   "source": [
    "## __Action item:__ \n",
    "Since all the plotting calls look similar so far I should make a function that takes in a dataframe, list of column names (str) to plot (list), a title (str), line labels (str), figsize (tuple), and axis object to determine if a subplot is needed "
   ]
  },
  {
   "cell_type": "code",
   "execution_count": 15,
   "metadata": {},
   "outputs": [
    {
     "data": {
      "image/png": "[encoded data removed]",
      "text/plain": [
       "<Figure size 936x504 with 1 Axes>"
      ]
     },
     "metadata": {},
     "output_type": "display_data"
    }
   ],
   "source": [
    "fig, ax = plt.subplots(figsize=(13,7))\n",
    "\n",
    "plt.style.use('ggplot')\n",
    "\n",
    "ax.bar(king.index,\n",
    "       king.cases,\n",
    "       color='violet',\n",
    "       label='Cumulative Cases',\n",
    "       linewidth=0,\n",
    "       alpha=0.8)\n",
    "\n",
    "ax.bar(king.index,\n",
    "       king.deaths,\n",
    "       color='purple',\n",
    "       label='Cumulative Deaths',\n",
    "       linewidth=0,\n",
    "       alpha=0.8)\n",
    "\n",
    "ax.set(title='Cumulative Reported Cases and Deaths (King County WA)')\n",
    "\n",
    "# Annotate with the total number of cases and deaths\n",
    "ax.annotate('Total Cases:  {:,}'.format(king.cases.values[-1]), (75,332), fontsize=17, xycoords='figure pixels')\n",
    "ax.annotate('Total Deaths:      {:,}'.format(king.deaths.values[-1]), (75,312), fontsize=17, xycoords='figure pixels')\n",
    "\n",
    "date_form = DateFormatter(\"%b\")\n",
    "ax.xaxis.set_major_formatter(date_form)\n",
    "\n",
    "plt.legend()\n",
    "plt.show()"
   ]
  },
  {
   "cell_type": "markdown",
   "metadata": {},
   "source": [
    "### COVID-19 by US Regions\n",
    "\n",
    "Now we'll filter `df` by regions of the US, however, it's somewhat tedious to keep this record using the full state names. As such, we'll manually add the appropriate postal code labels to a list. Next, we'll grab a mapping of the postal codes and state names from a table made available by the [Natural Resources Conservation Service](https://www.nrcs.usda.gov/wps/portal/nrcs/detail/?cid=nrcs143_013696) using [`BeautifulSoup`](https://www.crummy.com/software/BeautifulSoup/bs4/doc/) and the `requests` module. Finally, we'll [merge](https://pandas.pydata.org/pandas-docs/stable/reference/api/pandas.DataFrame.merge.html) the postal codes to `df`."
   ]
  },
  {
   "cell_type": "code",
   "execution_count": 16,
   "metadata": {},
   "outputs": [],
   "source": [
    "# Lists of the regions of the US\n",
    "northeast = ['CT', 'DE', 'ME', 'MD', 'MA', 'NH', 'NJ', 'NY', 'PA', 'RI', 'VT']\n",
    "midwest = ['IL', 'IN', 'IA', 'KA', 'MI', 'MO', 'MN', 'NE', 'ND', 'OH', 'SD', 'WI']\n",
    "south = ['AL', 'AR', 'FL', 'GA', 'KY', 'LA', 'MS', 'NC', 'OK', 'SC', 'TN', 'TX', 'VA', 'WV']\n",
    "west = ['AK', 'AZ', 'CA', 'CO', 'HI', 'ID', 'MT', 'NV', 'NM', 'OR', 'UR', 'WA', 'WY']"
   ]
  },
  {
   "cell_type": "code",
   "execution_count": 17,
   "metadata": {},
   "outputs": [
    {
     "data": {
      "text/html": [
       "<div>\n",
       "<style scoped>\n",
       "    .dataframe tbody tr th:only-of-type {\n",
       "        vertical-align: middle;\n",
       "    }\n",
       "\n",
       "    .dataframe tbody tr th {\n",
       "        vertical-align: top;\n",
       "    }\n",
       "\n",
       "    .dataframe thead th {\n",
       "        text-align: right;\n",
       "    }\n",
       "</style>\n",
       "<table border=\"1\" class=\"dataframe\">\n",
       "  <thead>\n",
       "    <tr style=\"text-align: right;\">\n",
       "      <th></th>\n",
       "      <th>name</th>\n",
       "      <th>postal code</th>\n",
       "      <th>fips</th>\n",
       "    </tr>\n",
       "  </thead>\n",
       "  <tbody>\n",
       "    <tr>\n",
       "      <th>0</th>\n",
       "      <td>Alabama</td>\n",
       "      <td>AL</td>\n",
       "      <td>01</td>\n",
       "    </tr>\n",
       "    <tr>\n",
       "      <th>1</th>\n",
       "      <td>Alaska</td>\n",
       "      <td>AK</td>\n",
       "      <td>02</td>\n",
       "    </tr>\n",
       "    <tr>\n",
       "      <th>2</th>\n",
       "      <td>Arizona</td>\n",
       "      <td>AZ</td>\n",
       "      <td>04</td>\n",
       "    </tr>\n",
       "    <tr>\n",
       "      <th>3</th>\n",
       "      <td>Arkansas</td>\n",
       "      <td>AR</td>\n",
       "      <td>05</td>\n",
       "    </tr>\n",
       "    <tr>\n",
       "      <th>4</th>\n",
       "      <td>California</td>\n",
       "      <td>CA</td>\n",
       "      <td>06</td>\n",
       "    </tr>\n",
       "  </tbody>\n",
       "</table>\n",
       "</div>"
      ],
      "text/plain": [
       "         name postal code fips\n",
       "0     Alabama          AL   01\n",
       "1      Alaska          AK   02\n",
       "2     Arizona          AZ   04\n",
       "3    Arkansas          AR   05\n",
       "4  California          CA   06"
      ]
     },
     "execution_count": 17,
     "metadata": {},
     "output_type": "execute_result"
    }
   ],
   "source": [
    "url = \"https://www.nrcs.usda.gov/wps/portal/nrcs/detail/?cid=nrcs143_013696\"\n",
    "html_content = requests.get(url).text      # Make a GET request to fetch the raw HTML content\n",
    "soup = BeautifulSoup(html_content, \"lxml\") # Parse the html content\n",
    "\n",
    "fips, countyName, stateName = [], [], []\n",
    "for tr in soup.find_all('tr')[29:-6]: #Found bounds manually\n",
    "    tds = tr.find_all('td')\n",
    "    fips.append(tds[0].text.replace('\\r\\n\\t\\t\\t\\t',''))\n",
    "    countyName.append(tds[1].text.replace('\\r\\n\\t\\t\\t\\t',''))\n",
    "    stateName.append(tds[2].text.replace('\\r\\n\\t\\t\\t\\t',''))\n",
    "\n",
    "statefips = pd.DataFrame()\n",
    "statefips['name'] = fips\n",
    "statefips['postal code'] = countyName\n",
    "statefips['fips'] = stateName\n",
    "statefips.head()"
   ]
  },
  {
   "cell_type": "code",
   "execution_count": 31,
   "metadata": {},
   "outputs": [],
   "source": [
    "data = df.reset_index()\n",
    "data = data.drop('fips', axis=1).merge(statefips, left_on='state', right_on='name', how='inner')\n",
    "data = data.drop(['name','state'], axis=1).set_index(['postal code','date'])"
   ]
  },
  {
   "cell_type": "code",
   "execution_count": 32,
   "metadata": {},
   "outputs": [
    {
     "data": {
      "text/html": [
       "<div>\n",
       "<style scoped>\n",
       "    .dataframe tbody tr th:only-of-type {\n",
       "        vertical-align: middle;\n",
       "    }\n",
       "\n",
       "    .dataframe tbody tr th {\n",
       "        vertical-align: top;\n",
       "    }\n",
       "\n",
       "    .dataframe thead th {\n",
       "        text-align: right;\n",
       "    }\n",
       "</style>\n",
       "<table border=\"1\" class=\"dataframe\">\n",
       "  <thead>\n",
       "    <tr style=\"text-align: right;\">\n",
       "      <th></th>\n",
       "      <th></th>\n",
       "      <th>county</th>\n",
       "      <th>cases</th>\n",
       "      <th>deaths</th>\n",
       "      <th>fips</th>\n",
       "    </tr>\n",
       "    <tr>\n",
       "      <th>postal code</th>\n",
       "      <th>date</th>\n",
       "      <th></th>\n",
       "      <th></th>\n",
       "      <th></th>\n",
       "      <th></th>\n",
       "    </tr>\n",
       "  </thead>\n",
       "  <tbody>\n",
       "    <tr>\n",
       "      <th rowspan=\"5\" valign=\"top\">CT</th>\n",
       "      <th>2020-03-08</th>\n",
       "      <td>Fairfield</td>\n",
       "      <td>1</td>\n",
       "      <td>0</td>\n",
       "      <td>09</td>\n",
       "    </tr>\n",
       "    <tr>\n",
       "      <th>2020-03-09</th>\n",
       "      <td>Fairfield</td>\n",
       "      <td>2</td>\n",
       "      <td>0</td>\n",
       "      <td>09</td>\n",
       "    </tr>\n",
       "    <tr>\n",
       "      <th>2020-03-10</th>\n",
       "      <td>Fairfield</td>\n",
       "      <td>2</td>\n",
       "      <td>0</td>\n",
       "      <td>09</td>\n",
       "    </tr>\n",
       "    <tr>\n",
       "      <th>2020-03-11</th>\n",
       "      <td>Fairfield</td>\n",
       "      <td>3</td>\n",
       "      <td>0</td>\n",
       "      <td>09</td>\n",
       "    </tr>\n",
       "    <tr>\n",
       "      <th>2020-03-12</th>\n",
       "      <td>Fairfield</td>\n",
       "      <td>5</td>\n",
       "      <td>0</td>\n",
       "      <td>09</td>\n",
       "    </tr>\n",
       "  </tbody>\n",
       "</table>\n",
       "</div>"
      ],
      "text/plain": [
       "                           county  cases  deaths fips\n",
       "postal code date                                     \n",
       "CT          2020-03-08  Fairfield      1       0   09\n",
       "            2020-03-09  Fairfield      2       0   09\n",
       "            2020-03-10  Fairfield      2       0   09\n",
       "            2020-03-11  Fairfield      3       0   09\n",
       "            2020-03-12  Fairfield      5       0   09"
      ]
     },
     "execution_count": 32,
     "metadata": {},
     "output_type": "execute_result"
    }
   ],
   "source": [
    "NE = data.loc[northeast]\n",
    "NE.head()"
   ]
  },
  {
   "cell_type": "code",
   "execution_count": 33,
   "metadata": {},
   "outputs": [
    {
     "data": {
      "text/html": [
       "<div>\n",
       "<style scoped>\n",
       "    .dataframe tbody tr th:only-of-type {\n",
       "        vertical-align: middle;\n",
       "    }\n",
       "\n",
       "    .dataframe tbody tr th {\n",
       "        vertical-align: top;\n",
       "    }\n",
       "\n",
       "    .dataframe thead th {\n",
       "        text-align: right;\n",
       "    }\n",
       "</style>\n",
       "<table border=\"1\" class=\"dataframe\">\n",
       "  <thead>\n",
       "    <tr style=\"text-align: right;\">\n",
       "      <th></th>\n",
       "      <th></th>\n",
       "      <th>county</th>\n",
       "      <th>cases</th>\n",
       "      <th>deaths</th>\n",
       "      <th>fips</th>\n",
       "    </tr>\n",
       "    <tr>\n",
       "      <th>postal code</th>\n",
       "      <th>date</th>\n",
       "      <th></th>\n",
       "      <th></th>\n",
       "      <th></th>\n",
       "      <th></th>\n",
       "    </tr>\n",
       "  </thead>\n",
       "  <tbody>\n",
       "    <tr>\n",
       "      <th rowspan=\"5\" valign=\"top\">IL</th>\n",
       "      <th>2020-03-20</th>\n",
       "      <td>Adams</td>\n",
       "      <td>1</td>\n",
       "      <td>0</td>\n",
       "      <td>17</td>\n",
       "    </tr>\n",
       "    <tr>\n",
       "      <th>2020-03-21</th>\n",
       "      <td>Adams</td>\n",
       "      <td>1</td>\n",
       "      <td>0</td>\n",
       "      <td>17</td>\n",
       "    </tr>\n",
       "    <tr>\n",
       "      <th>2020-03-22</th>\n",
       "      <td>Adams</td>\n",
       "      <td>1</td>\n",
       "      <td>0</td>\n",
       "      <td>17</td>\n",
       "    </tr>\n",
       "    <tr>\n",
       "      <th>2020-03-23</th>\n",
       "      <td>Adams</td>\n",
       "      <td>1</td>\n",
       "      <td>0</td>\n",
       "      <td>17</td>\n",
       "    </tr>\n",
       "    <tr>\n",
       "      <th>2020-03-24</th>\n",
       "      <td>Adams</td>\n",
       "      <td>1</td>\n",
       "      <td>0</td>\n",
       "      <td>17</td>\n",
       "    </tr>\n",
       "  </tbody>\n",
       "</table>\n",
       "</div>"
      ],
      "text/plain": [
       "                       county  cases  deaths fips\n",
       "postal code date                                 \n",
       "IL          2020-03-20  Adams      1       0   17\n",
       "            2020-03-21  Adams      1       0   17\n",
       "            2020-03-22  Adams      1       0   17\n",
       "            2020-03-23  Adams      1       0   17\n",
       "            2020-03-24  Adams      1       0   17"
      ]
     },
     "execution_count": 33,
     "metadata": {},
     "output_type": "execute_result"
    }
   ],
   "source": [
    "MW = data.loc[midwest]\n",
    "MW.head()"
   ]
  },
  {
   "cell_type": "code",
   "execution_count": 34,
   "metadata": {},
   "outputs": [
    {
     "data": {
      "text/html": [
       "<div>\n",
       "<style scoped>\n",
       "    .dataframe tbody tr th:only-of-type {\n",
       "        vertical-align: middle;\n",
       "    }\n",
       "\n",
       "    .dataframe tbody tr th {\n",
       "        vertical-align: top;\n",
       "    }\n",
       "\n",
       "    .dataframe thead th {\n",
       "        text-align: right;\n",
       "    }\n",
       "</style>\n",
       "<table border=\"1\" class=\"dataframe\">\n",
       "  <thead>\n",
       "    <tr style=\"text-align: right;\">\n",
       "      <th></th>\n",
       "      <th></th>\n",
       "      <th>county</th>\n",
       "      <th>cases</th>\n",
       "      <th>deaths</th>\n",
       "      <th>fips</th>\n",
       "    </tr>\n",
       "    <tr>\n",
       "      <th>postal code</th>\n",
       "      <th>date</th>\n",
       "      <th></th>\n",
       "      <th></th>\n",
       "      <th></th>\n",
       "      <th></th>\n",
       "    </tr>\n",
       "  </thead>\n",
       "  <tbody>\n",
       "    <tr>\n",
       "      <th rowspan=\"5\" valign=\"top\">AL</th>\n",
       "      <th>2020-03-24</th>\n",
       "      <td>Autauga</td>\n",
       "      <td>1</td>\n",
       "      <td>0</td>\n",
       "      <td>01</td>\n",
       "    </tr>\n",
       "    <tr>\n",
       "      <th>2020-03-25</th>\n",
       "      <td>Autauga</td>\n",
       "      <td>4</td>\n",
       "      <td>0</td>\n",
       "      <td>01</td>\n",
       "    </tr>\n",
       "    <tr>\n",
       "      <th>2020-03-26</th>\n",
       "      <td>Autauga</td>\n",
       "      <td>6</td>\n",
       "      <td>0</td>\n",
       "      <td>01</td>\n",
       "    </tr>\n",
       "    <tr>\n",
       "      <th>2020-03-27</th>\n",
       "      <td>Autauga</td>\n",
       "      <td>6</td>\n",
       "      <td>0</td>\n",
       "      <td>01</td>\n",
       "    </tr>\n",
       "    <tr>\n",
       "      <th>2020-03-28</th>\n",
       "      <td>Autauga</td>\n",
       "      <td>6</td>\n",
       "      <td>0</td>\n",
       "      <td>01</td>\n",
       "    </tr>\n",
       "  </tbody>\n",
       "</table>\n",
       "</div>"
      ],
      "text/plain": [
       "                         county  cases  deaths fips\n",
       "postal code date                                   \n",
       "AL          2020-03-24  Autauga      1       0   01\n",
       "            2020-03-25  Autauga      4       0   01\n",
       "            2020-03-26  Autauga      6       0   01\n",
       "            2020-03-27  Autauga      6       0   01\n",
       "            2020-03-28  Autauga      6       0   01"
      ]
     },
     "execution_count": 34,
     "metadata": {},
     "output_type": "execute_result"
    }
   ],
   "source": [
    "S = data.loc[south]\n",
    "S.head()"
   ]
  },
  {
   "cell_type": "code",
   "execution_count": 35,
   "metadata": {},
   "outputs": [
    {
     "data": {
      "text/html": [
       "<div>\n",
       "<style scoped>\n",
       "    .dataframe tbody tr th:only-of-type {\n",
       "        vertical-align: middle;\n",
       "    }\n",
       "\n",
       "    .dataframe tbody tr th {\n",
       "        vertical-align: top;\n",
       "    }\n",
       "\n",
       "    .dataframe thead th {\n",
       "        text-align: right;\n",
       "    }\n",
       "</style>\n",
       "<table border=\"1\" class=\"dataframe\">\n",
       "  <thead>\n",
       "    <tr style=\"text-align: right;\">\n",
       "      <th></th>\n",
       "      <th></th>\n",
       "      <th>county</th>\n",
       "      <th>cases</th>\n",
       "      <th>deaths</th>\n",
       "      <th>fips</th>\n",
       "    </tr>\n",
       "    <tr>\n",
       "      <th>postal code</th>\n",
       "      <th>date</th>\n",
       "      <th></th>\n",
       "      <th></th>\n",
       "      <th></th>\n",
       "      <th></th>\n",
       "    </tr>\n",
       "  </thead>\n",
       "  <tbody>\n",
       "    <tr>\n",
       "      <th rowspan=\"5\" valign=\"top\">AK</th>\n",
       "      <th>2020-06-09</th>\n",
       "      <td>Aleutians East Borough</td>\n",
       "      <td>1</td>\n",
       "      <td>0</td>\n",
       "      <td>02</td>\n",
       "    </tr>\n",
       "    <tr>\n",
       "      <th>2020-06-10</th>\n",
       "      <td>Aleutians East Borough</td>\n",
       "      <td>1</td>\n",
       "      <td>0</td>\n",
       "      <td>02</td>\n",
       "    </tr>\n",
       "    <tr>\n",
       "      <th>2020-06-11</th>\n",
       "      <td>Aleutians East Borough</td>\n",
       "      <td>1</td>\n",
       "      <td>0</td>\n",
       "      <td>02</td>\n",
       "    </tr>\n",
       "    <tr>\n",
       "      <th>2020-06-12</th>\n",
       "      <td>Aleutians East Borough</td>\n",
       "      <td>1</td>\n",
       "      <td>0</td>\n",
       "      <td>02</td>\n",
       "    </tr>\n",
       "    <tr>\n",
       "      <th>2020-06-13</th>\n",
       "      <td>Aleutians East Borough</td>\n",
       "      <td>1</td>\n",
       "      <td>0</td>\n",
       "      <td>02</td>\n",
       "    </tr>\n",
       "  </tbody>\n",
       "</table>\n",
       "</div>"
      ],
      "text/plain": [
       "                                        county  cases  deaths fips\n",
       "postal code date                                                  \n",
       "AK          2020-06-09  Aleutians East Borough      1       0   02\n",
       "            2020-06-10  Aleutians East Borough      1       0   02\n",
       "            2020-06-11  Aleutians East Borough      1       0   02\n",
       "            2020-06-12  Aleutians East Borough      1       0   02\n",
       "            2020-06-13  Aleutians East Borough      1       0   02"
      ]
     },
     "execution_count": 35,
     "metadata": {},
     "output_type": "execute_result"
    }
   ],
   "source": [
    "W = data.loc[west]\n",
    "W.head()"
   ]
  },
  {
   "cell_type": "code",
   "execution_count": null,
   "metadata": {},
   "outputs": [],
   "source": []
  },
  {
   "cell_type": "markdown",
   "metadata": {},
   "source": [
    "### COVID-19 in the US as a Whole\n",
    "Rather than aggregating `cases` and `deaths` by `datatime` instance to get the total daily reported cases and deaths in the US, let's import a dataset that already has that information and produce a bar graph."
   ]
  },
  {
   "cell_type": "code",
   "execution_count": 19,
   "metadata": {},
   "outputs": [
    {
     "data": {
      "text/html": [
       "<div>\n",
       "<style scoped>\n",
       "    .dataframe tbody tr th:only-of-type {\n",
       "        vertical-align: middle;\n",
       "    }\n",
       "\n",
       "    .dataframe tbody tr th {\n",
       "        vertical-align: top;\n",
       "    }\n",
       "\n",
       "    .dataframe thead th {\n",
       "        text-align: right;\n",
       "    }\n",
       "</style>\n",
       "<table border=\"1\" class=\"dataframe\">\n",
       "  <thead>\n",
       "    <tr style=\"text-align: right;\">\n",
       "      <th></th>\n",
       "      <th>cases</th>\n",
       "      <th>deaths</th>\n",
       "    </tr>\n",
       "    <tr>\n",
       "      <th>date</th>\n",
       "      <th></th>\n",
       "      <th></th>\n",
       "    </tr>\n",
       "  </thead>\n",
       "  <tbody>\n",
       "    <tr>\n",
       "      <th>2020-07-24</th>\n",
       "      <td>4123651</td>\n",
       "      <td>145430</td>\n",
       "    </tr>\n",
       "    <tr>\n",
       "      <th>2020-07-25</th>\n",
       "      <td>4190422</td>\n",
       "      <td>146314</td>\n",
       "    </tr>\n",
       "    <tr>\n",
       "      <th>2020-07-26</th>\n",
       "      <td>4244634</td>\n",
       "      <td>146754</td>\n",
       "    </tr>\n",
       "    <tr>\n",
       "      <th>2020-07-27</th>\n",
       "      <td>4303813</td>\n",
       "      <td>148450</td>\n",
       "    </tr>\n",
       "    <tr>\n",
       "      <th>2020-07-28</th>\n",
       "      <td>4366922</td>\n",
       "      <td>149774</td>\n",
       "    </tr>\n",
       "  </tbody>\n",
       "</table>\n",
       "</div>"
      ],
      "text/plain": [
       "              cases  deaths\n",
       "date                       \n",
       "2020-07-24  4123651  145430\n",
       "2020-07-25  4190422  146314\n",
       "2020-07-26  4244634  146754\n",
       "2020-07-27  4303813  148450\n",
       "2020-07-28  4366922  149774"
      ]
     },
     "execution_count": 19,
     "metadata": {},
     "output_type": "execute_result"
    }
   ],
   "source": [
    "# URL to NY Times COVID-19 data\n",
    "url = \"https://raw.githubusercontent.com/nytimes/covid-19-data/master/us.csv\"\n",
    "\n",
    "# Read the values, set the indices, parse the dates, and alphabetize\n",
    "usa = pd.read_csv(url, \n",
    "                  header=0, \n",
    "                  index_col=['date'], \n",
    "                  parse_dates=True).sort_index()\n",
    "usa.tail()"
   ]
  },
  {
   "cell_type": "code",
   "execution_count": 20,
   "metadata": {},
   "outputs": [
    {
     "data": {
      "text/html": [
       "<div>\n",
       "<style scoped>\n",
       "    .dataframe tbody tr th:only-of-type {\n",
       "        vertical-align: middle;\n",
       "    }\n",
       "\n",
       "    .dataframe tbody tr th {\n",
       "        vertical-align: top;\n",
       "    }\n",
       "\n",
       "    .dataframe thead th {\n",
       "        text-align: right;\n",
       "    }\n",
       "</style>\n",
       "<table border=\"1\" class=\"dataframe\">\n",
       "  <thead>\n",
       "    <tr style=\"text-align: right;\">\n",
       "      <th></th>\n",
       "      <th>new_cases</th>\n",
       "      <th>new_deaths</th>\n",
       "    </tr>\n",
       "    <tr>\n",
       "      <th>date</th>\n",
       "      <th></th>\n",
       "      <th></th>\n",
       "    </tr>\n",
       "  </thead>\n",
       "  <tbody>\n",
       "    <tr>\n",
       "      <th>2020-07-24</th>\n",
       "      <td>73525</td>\n",
       "      <td>1147</td>\n",
       "    </tr>\n",
       "    <tr>\n",
       "      <th>2020-07-25</th>\n",
       "      <td>66771</td>\n",
       "      <td>884</td>\n",
       "    </tr>\n",
       "    <tr>\n",
       "      <th>2020-07-26</th>\n",
       "      <td>54212</td>\n",
       "      <td>440</td>\n",
       "    </tr>\n",
       "    <tr>\n",
       "      <th>2020-07-27</th>\n",
       "      <td>59179</td>\n",
       "      <td>1696</td>\n",
       "    </tr>\n",
       "    <tr>\n",
       "      <th>2020-07-28</th>\n",
       "      <td>63109</td>\n",
       "      <td>1324</td>\n",
       "    </tr>\n",
       "  </tbody>\n",
       "</table>\n",
       "</div>"
      ],
      "text/plain": [
       "            new_cases  new_deaths\n",
       "date                             \n",
       "2020-07-24      73525        1147\n",
       "2020-07-25      66771         884\n",
       "2020-07-26      54212         440\n",
       "2020-07-27      59179        1696\n",
       "2020-07-28      63109        1324"
      ]
     },
     "execution_count": 20,
     "metadata": {},
     "output_type": "execute_result"
    }
   ],
   "source": [
    "usa_daily = dailyChanges(usa, ['cases','deaths'])\n",
    "usa_daily.tail()"
   ]
  },
  {
   "cell_type": "code",
   "execution_count": 21,
   "metadata": {},
   "outputs": [
    {
     "data": {
      "image/png": "[encoded data removed]",
      "text/plain": [
       "<Figure size 936x504 with 1 Axes>"
      ]
     },
     "metadata": {},
     "output_type": "display_data"
    }
   ],
   "source": [
    "fig, ax = plt.subplots(figsize=(13,7))\n",
    "\n",
    "plt.style.use('ggplot')\n",
    "\n",
    "ax.bar(usa_daily.index,\n",
    "       usa_daily.new_cases,\n",
    "       color='violet',\n",
    "       label='New Cases',\n",
    "       linewidth=0)\n",
    "\n",
    "ax.bar(usa_daily.index,\n",
    "       usa_daily.new_deaths,\n",
    "       color='purple',\n",
    "       label='New Deaths',\n",
    "       linewidth=0)\n",
    "\n",
    "ax.set_title('Daily Reported Cases and Deaths in the US', fontsize=18)\n",
    "\n",
    "# Annotate with the total number of cases and deaths\n",
    "ax.annotate('Total Cases:  {:,}'.format(usa.cases.values[-1]), (75,322), fontsize=17, xycoords='figure pixels')\n",
    "ax.annotate('Total Deaths:    {:,}'.format(usa.deaths.values[-1]), (75,302), fontsize=17, xycoords='figure pixels')\n",
    "\n",
    "date_form = DateFormatter(\"%b\")\n",
    "ax.xaxis.set_major_formatter(date_form)\n",
    "\n",
    "plt.legend()\n",
    "plt.show()"
   ]
  },
  {
   "cell_type": "code",
   "execution_count": 22,
   "metadata": {},
   "outputs": [
    {
     "data": {
      "text/plain": [
       "(DatetimeIndex(['2020-02-28', '2020-02-29', '2020-03-01', '2020-03-02',\n",
       "                '2020-03-03', '2020-03-04', '2020-03-05', '2020-03-06',\n",
       "                '2020-03-07', '2020-03-08', '2020-03-09', '2020-03-10'],\n",
       "               dtype='datetime64[ns]', name='date', freq=None),\n",
       " Int64Index([2, 2, 3, 3, 3, 3, 3, 3, 3, 3, 3, 3], dtype='int64', name='date'),\n",
       " Int64Index([28, 29, 1, 2, 3, 4, 5, 6, 7, 8, 9, 10], dtype='int64', name='date'))"
      ]
     },
     "execution_count": 22,
     "metadata": {},
     "output_type": "execute_result"
    }
   ],
   "source": [
    "# Let's find all the unique dates\n",
    "dates = king.index.get_level_values(0).unique().sort_values()\n",
    "dates[:12], dates[:12].month , dates[:12].day"
   ]
  },
  {
   "cell_type": "markdown",
   "metadata": {},
   "source": [
    "## __Action item:__ \n",
    "investigate the `'Unknown'` county reported and drop it if necessary"
   ]
  },
  {
   "cell_type": "code",
   "execution_count": 23,
   "metadata": {},
   "outputs": [
    {
     "data": {
      "text/plain": [
       "Index(['Adams', 'Asotin', 'Benton', 'Chelan', 'Clallam', 'Clark', 'Columbia',\n",
       "       'Cowlitz', 'Douglas', 'Ferry', 'Franklin', 'Garfield', 'Grant',\n",
       "       'Grays Harbor', 'Island', 'Jefferson', 'King', 'Kitsap', 'Kittitas',\n",
       "       'Klickitat', 'Lewis', 'Lincoln', 'Mason', 'Okanogan', 'Pacific',\n",
       "       'Pend Oreille', 'Pierce', 'San Juan', 'Skagit', 'Skamania', 'Snohomish',\n",
       "       'Spokane', 'Stevens', 'Thurston', 'Unknown', 'Wahkiakum', 'Walla Walla',\n",
       "       'Whatcom', 'Whitman', 'Yakima'],\n",
       "      dtype='object', name='county')"
      ]
     },
     "execution_count": 23,
     "metadata": {},
     "output_type": "execute_result"
    }
   ],
   "source": [
    "# Now let's see how we can get the county information\n",
    "df.loc[('Washington')].index.get_level_values(0).unique() "
   ]
  },
  {
   "cell_type": "code",
   "execution_count": null,
   "metadata": {},
   "outputs": [],
   "source": []
  },
  {
   "cell_type": "code",
   "execution_count": 24,
   "metadata": {
    "scrolled": true
   },
   "outputs": [
    {
     "ename": "NameError",
     "evalue": "name 'newcasesWA' is not defined",
     "output_type": "error",
     "traceback": [
      "\u001b[1;31m---------------------------------------------------------------------------\u001b[0m",
      "\u001b[1;31mNameError\u001b[0m                                 Traceback (most recent call last)",
      "\u001b[1;32m<ipython-input-24-3c92f3db90de>\u001b[0m in \u001b[0;36m<module>\u001b[1;34m\u001b[0m\n\u001b[0;32m      1\u001b[0m \u001b[1;31m# Find the number of cases accross\u001b[0m\u001b[1;33m\u001b[0m\u001b[1;33m\u001b[0m\u001b[1;33m\u001b[0m\u001b[0m\n\u001b[1;32m----> 2\u001b[1;33m \u001b[0mnew\u001b[0m \u001b[1;33m=\u001b[0m \u001b[0mnewcasesWA\u001b[0m\u001b[1;33m[\u001b[0m\u001b[0mnewcasesWA\u001b[0m\u001b[1;33m.\u001b[0m\u001b[0mindex\u001b[0m\u001b[1;33m.\u001b[0m\u001b[0mget_level_values\u001b[0m\u001b[1;33m(\u001b[0m\u001b[1;36m1\u001b[0m\u001b[1;33m)\u001b[0m \u001b[1;33m==\u001b[0m \u001b[0mdates\u001b[0m\u001b[1;33m[\u001b[0m\u001b[1;36m10\u001b[0m\u001b[1;33m]\u001b[0m\u001b[1;33m]\u001b[0m\u001b[1;33m.\u001b[0m\u001b[0mswaplevel\u001b[0m\u001b[1;33m(\u001b[0m\u001b[1;36m0\u001b[0m\u001b[1;33m,\u001b[0m\u001b[1;36m1\u001b[0m\u001b[1;33m)\u001b[0m\u001b[1;33m.\u001b[0m\u001b[0mreset_index\u001b[0m\u001b[1;33m(\u001b[0m\u001b[1;36m1\u001b[0m\u001b[1;33m)\u001b[0m\u001b[1;33m\u001b[0m\u001b[1;33m\u001b[0m\u001b[0m\n\u001b[0m\u001b[0;32m      3\u001b[0m \u001b[0mnew\u001b[0m\u001b[1;33m.\u001b[0m\u001b[0mcolumns\u001b[0m \u001b[1;33m=\u001b[0m \u001b[1;33m[\u001b[0m\u001b[1;34m'NAME'\u001b[0m\u001b[1;33m,\u001b[0m\u001b[1;34m'new cases'\u001b[0m\u001b[1;33m]\u001b[0m\u001b[1;33m\u001b[0m\u001b[1;33m\u001b[0m\u001b[0m\n\u001b[0;32m      4\u001b[0m \u001b[0mnew\u001b[0m\u001b[1;33m\u001b[0m\u001b[1;33m\u001b[0m\u001b[0m\n",
      "\u001b[1;31mNameError\u001b[0m: name 'newcasesWA' is not defined"
     ]
    }
   ],
   "source": [
    "# Find the number of cases accross\n",
    "new = newcasesWA[newcasesWA.index.get_level_values(1) == dates[10]].swaplevel(0,1).reset_index(1)\n",
    "new.columns = ['NAME','new cases']\n",
    "new"
   ]
  },
  {
   "cell_type": "code",
   "execution_count": null,
   "metadata": {},
   "outputs": [],
   "source": []
  },
  {
   "cell_type": "code",
   "execution_count": null,
   "metadata": {},
   "outputs": [],
   "source": [
    "def plotNewCases(dataf, title, fname):\n",
    "    '''\n",
    "    \n",
    "    '''\n",
    "    fig, ax = plt.subplots(figsize=(14,8))\n",
    "\n",
    "    _ = ax.bar(dataf.index, dataf['cases'])\n",
    "\n",
    "    #set ticks every week\n",
    "    ax.xaxis.set_major_locator(mdates.WeekdayLocator())\n",
    "    #set major ticks format\n",
    "    ax.xaxis.set_major_formatter(mdates.DateFormatter('%b %d'))\n",
    "    plt.title(title, fontsize=25)\n",
    "    plt.grid(True)\n",
    "    plt.savefig(fname)"
   ]
  },
  {
   "cell_type": "code",
   "execution_count": null,
   "metadata": {
    "scrolled": true
   },
   "outputs": [],
   "source": [
    "countiesWA = df.loc[('Washington')].index.get_level_values(0).unique() # get the counties\n",
    "\n",
    "for i in range(len(countiesWA)):\n",
    "    newcases = dailynums(df.loc[('Washington',countiesWA[i])], ['cases']).apply(abs)\n",
    "    titles = ['New COVID-19 Cases '+str(c)+' County WA' for c in countiesWA]\n",
    "    plotNewCases(newcases, titles[i], fname=titles[i])"
   ]
  },
  {
   "cell_type": "code",
   "execution_count": null,
   "metadata": {
    "scrolled": false
   },
   "outputs": [],
   "source": [
    "'''\n",
    "counties = df.loc[('New Jersey')].index.get_level_values(0).unique()\n",
    "\n",
    "fig, ax = plt.subplots(figsize=(16,12))\n",
    "\n",
    "for i in counties:\n",
    "    df.loc[('New Jersey', i)].cases.plot()\n",
    "    \n",
    "plt.title(\"Cumulative COVID-19 Cases\")\n",
    "ax.legend(counties)\n",
    "plt.ylabel('Cumulative Reported Cases')\n",
    "plt.grid(True) \n",
    "'''"
   ]
  },
  {
   "cell_type": "code",
   "execution_count": null,
   "metadata": {
    "scrolled": true
   },
   "outputs": [],
   "source": [
    "dates = sorted(df.index.get_level_values(2).unique())\n",
    "dates"
   ]
  },
  {
   "cell_type": "code",
   "execution_count": null,
   "metadata": {},
   "outputs": [],
   "source": []
  },
  {
   "cell_type": "code",
   "execution_count": null,
   "metadata": {
    "scrolled": false
   },
   "outputs": [],
   "source": [
    "bydates = df.reset_index().set_index('date').sort_index()\n",
    "bydates.loc['2020-05-31']"
   ]
  },
  {
   "cell_type": "code",
   "execution_count": null,
   "metadata": {},
   "outputs": [],
   "source": [
    "bydates.index.unique()"
   ]
  },
  {
   "cell_type": "code",
   "execution_count": null,
   "metadata": {},
   "outputs": [],
   "source": [
    "date = bydates.index.unique()[-1]\n",
    "bydates.loc[date]"
   ]
  },
  {
   "cell_type": "code",
   "execution_count": null,
   "metadata": {},
   "outputs": [],
   "source": [
    "d = df.loc[('Washington','King')].head()\n",
    "d"
   ]
  },
  {
   "cell_type": "code",
   "execution_count": null,
   "metadata": {},
   "outputs": [],
   "source": [
    "d[['cases','deaths']].iloc[3]"
   ]
  },
  {
   "cell_type": "code",
   "execution_count": null,
   "metadata": {},
   "outputs": [],
   "source": []
  },
  {
   "cell_type": "code",
   "execution_count": null,
   "metadata": {},
   "outputs": [],
   "source": [
    "dailynums(d,['cases','deaths']) # test to see if it's working "
   ]
  },
  {
   "cell_type": "markdown",
   "metadata": {},
   "source": [
    "### Underlying US County and State Boundary Maps\n",
    "\n",
    "The data was obtained through the the US Census Bereau, which provided the `.shp` files of the boudary data. An [online file conversion tool](https://mygeodata.cloud/converter/) was then used to generate `geojson` files from the raw boundary data. \n",
    "\n",
    "- https://www.census.gov/geographies/mapping-files/time-series/geo/carto-boundary-file.html\n",
    "- https://eric.clst.org/tech/usgeojson/\n",
    "\n",
    "- https://github.com/johan/world.geo.json/tree/master/countries/USA\n",
    "\n",
    "\n",
    "- [State FIPS Codes](https://www.nrcs.usda.gov/wps/portal/nrcs/detail/?cid=nrcs143_013696)\n",
    "- [County FIPS Codes](https://www.nrcs.usda.gov/wps/portal/nrcs/detail/national/home/?cid=nrcs143_013697)"
   ]
  },
  {
   "cell_type": "code",
   "execution_count": null,
   "metadata": {},
   "outputs": [],
   "source": []
  },
  {
   "cell_type": "code",
   "execution_count": null,
   "metadata": {
    "scrolled": true
   },
   "outputs": [],
   "source": []
  },
  {
   "cell_type": "code",
   "execution_count": null,
   "metadata": {},
   "outputs": [],
   "source": [
    "# Getting to know GEOJSON file:\n",
    "county = geopandas.read_file(\"cb_2018_us_county_20m.geojson\")\n",
    "county.head()"
   ]
  },
  {
   "cell_type": "markdown",
   "metadata": {},
   "source": [
    "## __Action item:__ \n",
    "merge `STATEFP` and `postal code` to make it easier to read\n",
    "\n",
    "## __Action item:__ \n",
    "filter by postal codes instead of fips for same reason"
   ]
  },
  {
   "cell_type": "code",
   "execution_count": null,
   "metadata": {},
   "outputs": [],
   "source": [
    "# Exclude Alaska, Hawaii, American Samoa, Guam, Northern Mariana Islands, Puerto Rico, and the Virgin Islands for now\n",
    "states = county[county['STATEFP'].isin(['02','15','60','66','69','72','78']) == False]"
   ]
  },
  {
   "cell_type": "code",
   "execution_count": null,
   "metadata": {
    "scrolled": false
   },
   "outputs": [],
   "source": [
    "states.plot(figsize=(30,20), \n",
    "            color='#3B3C6E',\n",
    "            linewidth=0.1)\n",
    "\n",
    "plt.axis('off')\n",
    "plt.show()"
   ]
  },
  {
   "cell_type": "code",
   "execution_count": null,
   "metadata": {},
   "outputs": [],
   "source": [
    "# County map of Washington State\n",
    "WA = county[county['STATEFP'].isin(['53']) == True]\n",
    "\n",
    "WA.plot(figsize=(30,20), color='#3B3C6E')\n",
    "plt.axis('off')\n",
    "plt.show()"
   ]
  },
  {
   "cell_type": "code",
   "execution_count": null,
   "metadata": {
    "scrolled": true
   },
   "outputs": [],
   "source": []
  },
  {
   "cell_type": "markdown",
   "metadata": {},
   "source": [
    "### Making the Choropleths\n",
    "\n",
    "\"When making choropleths, it is important to always use a variable that is normalized for the area being plotted. Further, by using a classification scheme instead of a continuous color scale, we can make the map more easily interpretable.\"\n",
    "\n",
    "To make the choropleth map I’ll need to do something like:\n",
    "\n",
    "`covid19_county_data.plot(column=’cases’, scheme=quantile, k=12, cmap=’Purples’)`\n",
    "\n",
    "- The color scheme is a graduated sequential scheme\n",
    "    - I.e. `categorical=False`\n"
   ]
  },
  {
   "cell_type": "markdown",
   "metadata": {},
   "source": [
    "__Action item:__ create a function that takes a geopandas DF and loops through each date and creates a choropleth based on the number of cases/100k"
   ]
  },
  {
   "cell_type": "code",
   "execution_count": null,
   "metadata": {},
   "outputs": [],
   "source": [
    "newcasesWA = df.loc[('Washington')]\n",
    "\n",
    "new = newcasesWA[newcasesWA.index.get_level_values(1) == dates[-1]].swaplevel(0,1).reset_index(1)\n",
    "new.columns = ['NAME','new_cases']\n",
    "merged = pd.merge_ordered(WA, new, how='left', on='NAME').fillna(0)\n",
    "    \n",
    "merged.plot()#column='new cases', cmap='BuGn', edgecolor='black') \n",
    "    \n",
    "plt.title('New COVID-19 cases on '+str(d)[:10],fontsize=25)\n",
    "plt.axis('off')\n",
    "#plt.savefig('figs/New COVID-19 cases on '+str(d)[:10]);\n",
    "plt.show()"
   ]
  },
  {
   "cell_type": "code",
   "execution_count": null,
   "metadata": {},
   "outputs": [],
   "source": []
  },
  {
   "cell_type": "code",
   "execution_count": null,
   "metadata": {
    "scrolled": false
   },
   "outputs": [],
   "source": []
  },
  {
   "cell_type": "code",
   "execution_count": null,
   "metadata": {},
   "outputs": [],
   "source": []
  },
  {
   "cell_type": "code",
   "execution_count": null,
   "metadata": {},
   "outputs": [],
   "source": []
  },
  {
   "cell_type": "markdown",
   "metadata": {},
   "source": [
    "### Animation\n",
    "\n",
    "- Make animation of new cases vs time\n",
    "\n",
    "\n",
    "- Number of total infections vs time"
   ]
  },
  {
   "cell_type": "code",
   "execution_count": null,
   "metadata": {},
   "outputs": [],
   "source": []
  },
  {
   "cell_type": "code",
   "execution_count": null,
   "metadata": {},
   "outputs": [],
   "source": []
  },
  {
   "cell_type": "code",
   "execution_count": null,
   "metadata": {},
   "outputs": [],
   "source": []
  }
 ],
 "metadata": {
  "kernelspec": {
   "display_name": "Python 3",
   "language": "python",
   "name": "python3"
  },
  "language_info": {
   "codemirror_mode": {
    "name": "ipython",
    "version": 3
   },
   "file_extension": ".py",
   "mimetype": "text/x-python",
   "name": "python",
   "nbconvert_exporter": "python",
   "pygments_lexer": "ipython3",
   "version": "3.7.6"
  }
 },
 "nbformat": 4,
 "nbformat_minor": 2
}
