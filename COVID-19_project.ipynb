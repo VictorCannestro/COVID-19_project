{
 "cells": [
  {
   "cell_type": "markdown",
   "metadata": {},
   "source": [
    "# Exploring COVID-19 Cases in the US\n",
    "#### Author: Victor Cannestro"
   ]
  },
  {
   "cell_type": "markdown",
   "metadata": {},
   "source": [
    "### Imports"
   ]
  },
  {
   "cell_type": "code",
   "execution_count": 1,
   "metadata": {},
   "outputs": [
    {
     "data": {
      "text/html": [
       "\n",
       "<style>\n",
       ".output_png {\n",
       "    display: table-cell;\n",
       "    text-align: center;\n",
       "    vertical-align: middle;\n",
       "}\n",
       "</style>\n"
      ],
      "text/plain": [
       "<IPython.core.display.HTML object>"
      ]
     },
     "execution_count": 1,
     "metadata": {},
     "output_type": "execute_result"
    }
   ],
   "source": [
    "import numpy as np\n",
    "import pandas as pd\n",
    "import missingno as msn\n",
    "\n",
    "import geopandas\n",
    "from shapely.geometry import Point\n",
    "\n",
    "import matplotlib.pyplot as plt\n",
    "import matplotlib.dates as mdates\n",
    "from matplotlib.dates import DateFormatter\n",
    "\n",
    "import seaborn as sns\n",
    "sns.set(font_scale=1.5) \n",
    "\n",
    "# Handle date time conversions between pandas and matplotlib\n",
    "from pandas.plotting import register_matplotlib_converters\n",
    "register_matplotlib_converters()\n",
    "\n",
    "from bs4 import BeautifulSoup\n",
    "import requests\n",
    "\n",
    "# Code to center plots in the screen\n",
    "from IPython.core.display import HTML \n",
    "HTML(\"\"\"\n",
    "<style>\n",
    ".output_png {\n",
    "    display: table-cell;\n",
    "    text-align: center;\n",
    "    vertical-align: middle;\n",
    "}\n",
    "</style>\n",
    "\"\"\")"
   ]
  },
  {
   "cell_type": "markdown",
   "metadata": {},
   "source": [
    "### Exploring the Time-Series\n",
    "\n",
    "First, we import the county level time-series data gathered by the **NY Times** on Github (without downloading it) using `pd.read_csv()` and parse the retrieved data into an organized, multi-indexed `DataFrame`. The resulting DataFrame will be indexed by `state`, `county`, and `date` and have three columns: `fips`, `cases`, and `deaths`. Here, `fips` stands for the __F__ederal __I__nformation __P__rocessing __S__eries which are the codes most commonly used by the US Census Bureau. To download the data directly into the current working directory, instead, one could call \n",
    "\n",
    "```python\n",
    "import urllib\n",
    "\n",
    "url = \"https://raw.githubusercontent.com/nytimes/covid-19-data/master/us-counties.csv\"\n",
    "filename = 'myfilename.csv'\n",
    "urllib.request.urlretrieve(url, filename)\n",
    "```\n",
    "\n",
    "#### Pandas reminders:\n",
    "[read_csv()](https://pandas.pydata.org/pandas-docs/stable/reference/api/pandas.read_csv.html), [DataFrame()](https://pandas.pydata.org/pandas-docs/stable/reference/api/pandas.DataFrame.html), [MultiIndex](https://pandas.pydata.org/pandas-docs/stable/user_guide/advanced.html), [concat()](https://pandas.pydata.org/pandas-docs/stable/reference/api/pandas.concat.html#pandas.concat)"
   ]
  },
  {
   "cell_type": "code",
   "execution_count": 2,
   "metadata": {},
   "outputs": [
    {
     "data": {
      "text/html": [
       "<div>\n",
       "<style scoped>\n",
       "    .dataframe tbody tr th:only-of-type {\n",
       "        vertical-align: middle;\n",
       "    }\n",
       "\n",
       "    .dataframe tbody tr th {\n",
       "        vertical-align: top;\n",
       "    }\n",
       "\n",
       "    .dataframe thead th {\n",
       "        text-align: right;\n",
       "    }\n",
       "</style>\n",
       "<table border=\"1\" class=\"dataframe\">\n",
       "  <thead>\n",
       "    <tr style=\"text-align: right;\">\n",
       "      <th></th>\n",
       "      <th></th>\n",
       "      <th></th>\n",
       "      <th>fips</th>\n",
       "      <th>cases</th>\n",
       "      <th>deaths</th>\n",
       "    </tr>\n",
       "    <tr>\n",
       "      <th>state</th>\n",
       "      <th>county</th>\n",
       "      <th>date</th>\n",
       "      <th></th>\n",
       "      <th></th>\n",
       "      <th></th>\n",
       "    </tr>\n",
       "  </thead>\n",
       "  <tbody>\n",
       "    <tr>\n",
       "      <th>New Jersey</th>\n",
       "      <th>Essex</th>\n",
       "      <th>2020-07-13</th>\n",
       "      <td>34013.0</td>\n",
       "      <td>19288</td>\n",
       "      <td>2077</td>\n",
       "    </tr>\n",
       "    <tr>\n",
       "      <th>Kentucky</th>\n",
       "      <th>Henderson</th>\n",
       "      <th>2020-05-23</th>\n",
       "      <td>21101.0</td>\n",
       "      <td>103</td>\n",
       "      <td>4</td>\n",
       "    </tr>\n",
       "    <tr>\n",
       "      <th>Ohio</th>\n",
       "      <th>Ashtabula</th>\n",
       "      <th>2020-07-07</th>\n",
       "      <td>39007.0</td>\n",
       "      <td>436</td>\n",
       "      <td>44</td>\n",
       "    </tr>\n",
       "    <tr>\n",
       "      <th>California</th>\n",
       "      <th>Humboldt</th>\n",
       "      <th>2020-06-17</th>\n",
       "      <td>6023.0</td>\n",
       "      <td>108</td>\n",
       "      <td>4</td>\n",
       "    </tr>\n",
       "    <tr>\n",
       "      <th>Ohio</th>\n",
       "      <th>Meigs</th>\n",
       "      <th>2020-07-26</th>\n",
       "      <td>39105.0</td>\n",
       "      <td>23</td>\n",
       "      <td>0</td>\n",
       "    </tr>\n",
       "  </tbody>\n",
       "</table>\n",
       "</div>"
      ],
      "text/plain": [
       "                                    fips  cases  deaths\n",
       "state      county    date                              \n",
       "New Jersey Essex     2020-07-13  34013.0  19288    2077\n",
       "Kentucky   Henderson 2020-05-23  21101.0    103       4\n",
       "Ohio       Ashtabula 2020-07-07  39007.0    436      44\n",
       "California Humboldt  2020-06-17   6023.0    108       4\n",
       "Ohio       Meigs     2020-07-26  39105.0     23       0"
      ]
     },
     "execution_count": 2,
     "metadata": {},
     "output_type": "execute_result"
    }
   ],
   "source": [
    "# URL to NY Times COVID-19 data\n",
    "url = \"https://raw.githubusercontent.com/nytimes/covid-19-data/master/us-counties.csv\"\n",
    "\n",
    "# Read the values, set the indices, parse the dates, and alphabetize\n",
    "df = pd.read_csv(url, \n",
    "                 header=0, \n",
    "                 index_col=['state','county','date'], \n",
    "                 parse_dates=True).sort_index()\n",
    "\n",
    "df.sample(5)"
   ]
  },
  {
   "cell_type": "markdown",
   "metadata": {},
   "source": [
    "Before moving on with further processing let's check to see if there are any missing or suspect values (like negative cases or deaths) in the data and correct them."
   ]
  },
  {
   "cell_type": "code",
   "execution_count": 3,
   "metadata": {},
   "outputs": [],
   "source": [
    "neg_cases = df.cases.values[df.cases.values < 0]\n",
    "assert set(neg_cases) == set(), 'FAILED: there is a negative value' "
   ]
  },
  {
   "cell_type": "code",
   "execution_count": 4,
   "metadata": {},
   "outputs": [],
   "source": [
    "assert len(df[df.cases.isna()]) == 0, 'FAILED: there is a nan value' "
   ]
  },
  {
   "cell_type": "code",
   "execution_count": 5,
   "metadata": {},
   "outputs": [],
   "source": [
    "neg_deaths = df.deaths.values[df.deaths.values < 0]\n",
    "assert set(neg_deaths) == set(), 'FAILED: there is a negative value' "
   ]
  },
  {
   "cell_type": "code",
   "execution_count": 6,
   "metadata": {},
   "outputs": [],
   "source": [
    "assert len(df[df.deaths.isna()]) == 0, 'FAILED: there is a nan value' "
   ]
  },
  {
   "cell_type": "markdown",
   "metadata": {},
   "source": [
    "We can immediately see how easy is is to look up state and county level information using this indexing scheme. Moreover, because the index is sorted by date (which is a collection of `datetime` objects) as well as alphabetically by state and county we can easily isolate the time-series data for each county in preparation for further analysis, genreating choropleths, etc. For example, let's peak at the latest King County, WA data:"
   ]
  },
  {
   "cell_type": "code",
   "execution_count": 7,
   "metadata": {},
   "outputs": [
    {
     "data": {
      "text/html": [
       "<div>\n",
       "<style scoped>\n",
       "    .dataframe tbody tr th:only-of-type {\n",
       "        vertical-align: middle;\n",
       "    }\n",
       "\n",
       "    .dataframe tbody tr th {\n",
       "        vertical-align: top;\n",
       "    }\n",
       "\n",
       "    .dataframe thead th {\n",
       "        text-align: right;\n",
       "    }\n",
       "</style>\n",
       "<table border=\"1\" class=\"dataframe\">\n",
       "  <thead>\n",
       "    <tr style=\"text-align: right;\">\n",
       "      <th></th>\n",
       "      <th>fips</th>\n",
       "      <th>cases</th>\n",
       "      <th>deaths</th>\n",
       "    </tr>\n",
       "    <tr>\n",
       "      <th>date</th>\n",
       "      <th></th>\n",
       "      <th></th>\n",
       "      <th></th>\n",
       "    </tr>\n",
       "  </thead>\n",
       "  <tbody>\n",
       "    <tr>\n",
       "      <th>2020-07-28</th>\n",
       "      <td>53033.0</td>\n",
       "      <td>14748</td>\n",
       "      <td>667</td>\n",
       "    </tr>\n",
       "    <tr>\n",
       "      <th>2020-07-29</th>\n",
       "      <td>53033.0</td>\n",
       "      <td>14898</td>\n",
       "      <td>667</td>\n",
       "    </tr>\n",
       "    <tr>\n",
       "      <th>2020-07-30</th>\n",
       "      <td>53033.0</td>\n",
       "      <td>15058</td>\n",
       "      <td>668</td>\n",
       "    </tr>\n",
       "    <tr>\n",
       "      <th>2020-07-31</th>\n",
       "      <td>53033.0</td>\n",
       "      <td>15216</td>\n",
       "      <td>668</td>\n",
       "    </tr>\n",
       "    <tr>\n",
       "      <th>2020-08-01</th>\n",
       "      <td>53033.0</td>\n",
       "      <td>15418</td>\n",
       "      <td>674</td>\n",
       "    </tr>\n",
       "  </tbody>\n",
       "</table>\n",
       "</div>"
      ],
      "text/plain": [
       "               fips  cases  deaths\n",
       "date                              \n",
       "2020-07-28  53033.0  14748     667\n",
       "2020-07-29  53033.0  14898     667\n",
       "2020-07-30  53033.0  15058     668\n",
       "2020-07-31  53033.0  15216     668\n",
       "2020-08-01  53033.0  15418     674"
      ]
     },
     "execution_count": 7,
     "metadata": {},
     "output_type": "execute_result"
    }
   ],
   "source": [
    "king = df.loc[('Washington','King')] # See the latest data for King County\n",
    "king.tail()"
   ]
  },
  {
   "cell_type": "markdown",
   "metadata": {},
   "source": [
    "Notice how the `cases` and `deaths` columns are expressed as the running aggregate values instead of new reported cases and deaths. Let's write a function that will accept the DataFrame and columns we're interested in and compute the difference between consecutive days."
   ]
  },
  {
   "cell_type": "code",
   "execution_count": 8,
   "metadata": {},
   "outputs": [
    {
     "data": {
      "text/html": [
       "<div>\n",
       "<style scoped>\n",
       "    .dataframe tbody tr th:only-of-type {\n",
       "        vertical-align: middle;\n",
       "    }\n",
       "\n",
       "    .dataframe tbody tr th {\n",
       "        vertical-align: top;\n",
       "    }\n",
       "\n",
       "    .dataframe thead th {\n",
       "        text-align: right;\n",
       "    }\n",
       "</style>\n",
       "<table border=\"1\" class=\"dataframe\">\n",
       "  <thead>\n",
       "    <tr style=\"text-align: right;\">\n",
       "      <th></th>\n",
       "      <th>fips</th>\n",
       "      <th>cases</th>\n",
       "      <th>deaths</th>\n",
       "    </tr>\n",
       "    <tr>\n",
       "      <th>date</th>\n",
       "      <th></th>\n",
       "      <th></th>\n",
       "      <th></th>\n",
       "    </tr>\n",
       "  </thead>\n",
       "  <tbody>\n",
       "    <tr>\n",
       "      <th>2020-07-28</th>\n",
       "      <td>53033.0</td>\n",
       "      <td>14748</td>\n",
       "      <td>667</td>\n",
       "    </tr>\n",
       "    <tr>\n",
       "      <th>2020-07-29</th>\n",
       "      <td>53033.0</td>\n",
       "      <td>14898</td>\n",
       "      <td>667</td>\n",
       "    </tr>\n",
       "    <tr>\n",
       "      <th>2020-07-30</th>\n",
       "      <td>53033.0</td>\n",
       "      <td>15058</td>\n",
       "      <td>668</td>\n",
       "    </tr>\n",
       "    <tr>\n",
       "      <th>2020-07-31</th>\n",
       "      <td>53033.0</td>\n",
       "      <td>15216</td>\n",
       "      <td>668</td>\n",
       "    </tr>\n",
       "    <tr>\n",
       "      <th>2020-08-01</th>\n",
       "      <td>53033.0</td>\n",
       "      <td>15418</td>\n",
       "      <td>674</td>\n",
       "    </tr>\n",
       "  </tbody>\n",
       "</table>\n",
       "</div>"
      ],
      "text/plain": [
       "               fips  cases  deaths\n",
       "date                              \n",
       "2020-07-28  53033.0  14748     667\n",
       "2020-07-29  53033.0  14898     667\n",
       "2020-07-30  53033.0  15058     668\n",
       "2020-07-31  53033.0  15216     668\n",
       "2020-08-01  53033.0  15418     674"
      ]
     },
     "execution_count": 8,
     "metadata": {},
     "output_type": "execute_result"
    }
   ],
   "source": [
    "king.tail()"
   ]
  },
  {
   "cell_type": "code",
   "execution_count": 9,
   "metadata": {},
   "outputs": [
    {
     "data": {
      "text/plain": [
       "Timestamp('2020-08-01 00:00:00')"
      ]
     },
     "execution_count": 9,
     "metadata": {},
     "output_type": "execute_result"
    }
   ],
   "source": [
    "king.index[-1]"
   ]
  },
  {
   "cell_type": "code",
   "execution_count": 10,
   "metadata": {},
   "outputs": [],
   "source": [
    "def dailyChanges(dataframe, cols):\n",
    "    '''\n",
    "    Args:  \n",
    "        dataframe (pandas DataFrame): the input dataframe of cumulative updates. \n",
    "                                      Must be single indexed.\n",
    "        cols (list): list of column labels\n",
    "        \n",
    "    Returns:       \n",
    "        (pandas DataFrame): quantizing the difference between daily values as\n",
    "                            the number of new cases per day\n",
    "    \n",
    "    Notes: Calculates array subtraction for each date in the Time Series \n",
    "           i.e.\n",
    "    \n",
    "           changes = df_today_values - df_yesterday_values\n",
    "           \n",
    "           This method utilizes the underlying numpy arrays so no for-loops are needed \n",
    "           and ought to be faster. The old method was based on elementwise subtraction:\n",
    "           \n",
    "           new  = [dataframe[cols].iloc[0]]\n",
    "    \n",
    "           # Loop over each date and take the differences\n",
    "           for i in range(1, len(dataframe)):\n",
    "               new.append(dataframe[cols].iloc[i] - dataframe[cols].iloc[i-1])\n",
    "\n",
    "           # Convert new into a DataFrame the same indices as dataframe\n",
    "           new_df = pd.DataFrame(data=new, index=dataframe.index)\n",
    "           \n",
    "    '''\n",
    "    data = dataframe[cols]\n",
    "    \n",
    "    # 1xlen(cols) pad of zeros for first element\n",
    "    pad = pd.DataFrame({k:0 for k in cols}, index=[dataframe.index[0]]) \n",
    "    \n",
    "    # Drop the last value this means the DF stops at second to last date\n",
    "    temp = data.drop(data.index[-1]) \n",
    "    \n",
    "    # Relabel the index so every value is dated one day ahead (needed for the subtraction later)\n",
    "    temp.index = data.index[1:]\n",
    "    \n",
    "    # glue the zero pad to temp\n",
    "    pd.concat((pad, temp)) \n",
    "    \n",
    "    # Element wise calculation of the daily changes (dates need to match up)\n",
    "    changes = data - temp \n",
    "    \n",
    "    # Edit the column names to reflect the daily changes\n",
    "    changes.columns = ['new_' + name for name in cols]\n",
    "    \n",
    "    return changes"
   ]
  },
  {
   "cell_type": "code",
   "execution_count": 11,
   "metadata": {},
   "outputs": [
    {
     "data": {
      "text/html": [
       "<div>\n",
       "<style scoped>\n",
       "    .dataframe tbody tr th:only-of-type {\n",
       "        vertical-align: middle;\n",
       "    }\n",
       "\n",
       "    .dataframe tbody tr th {\n",
       "        vertical-align: top;\n",
       "    }\n",
       "\n",
       "    .dataframe thead th {\n",
       "        text-align: right;\n",
       "    }\n",
       "</style>\n",
       "<table border=\"1\" class=\"dataframe\">\n",
       "  <thead>\n",
       "    <tr style=\"text-align: right;\">\n",
       "      <th></th>\n",
       "      <th>new_cases</th>\n",
       "      <th>new_deaths</th>\n",
       "    </tr>\n",
       "    <tr>\n",
       "      <th>date</th>\n",
       "      <th></th>\n",
       "      <th></th>\n",
       "    </tr>\n",
       "  </thead>\n",
       "  <tbody>\n",
       "    <tr>\n",
       "      <th>2020-07-28</th>\n",
       "      <td>110.0</td>\n",
       "      <td>3.0</td>\n",
       "    </tr>\n",
       "    <tr>\n",
       "      <th>2020-07-29</th>\n",
       "      <td>150.0</td>\n",
       "      <td>0.0</td>\n",
       "    </tr>\n",
       "    <tr>\n",
       "      <th>2020-07-30</th>\n",
       "      <td>160.0</td>\n",
       "      <td>1.0</td>\n",
       "    </tr>\n",
       "    <tr>\n",
       "      <th>2020-07-31</th>\n",
       "      <td>158.0</td>\n",
       "      <td>0.0</td>\n",
       "    </tr>\n",
       "    <tr>\n",
       "      <th>2020-08-01</th>\n",
       "      <td>202.0</td>\n",
       "      <td>6.0</td>\n",
       "    </tr>\n",
       "  </tbody>\n",
       "</table>\n",
       "</div>"
      ],
      "text/plain": [
       "            new_cases  new_deaths\n",
       "date                             \n",
       "2020-07-28      110.0         3.0\n",
       "2020-07-29      150.0         0.0\n",
       "2020-07-30      160.0         1.0\n",
       "2020-07-31      158.0         0.0\n",
       "2020-08-01      202.0         6.0"
      ]
     },
     "execution_count": 11,
     "metadata": {},
     "output_type": "execute_result"
    }
   ],
   "source": [
    "daily_king = dailyChanges(df.loc[('Washington','King')], ['cases','deaths']).apply(abs)\n",
    "daily_king.tail()"
   ]
  },
  {
   "cell_type": "markdown",
   "metadata": {},
   "source": [
    "The summary statistics of these daily change columns provide us with some broad insights about how King County is being affected:\n",
    "- `mean` \n",
    "   - The average number of reported new cases $\\approx 97$\n",
    "   - The average number of reported new deaths $\\approx 5$\n",
    "   \n",
    "- `max` \n",
    "   - The most reported new cases $\\approx 269$\n",
    "   - The most reported new deaths $\\approx 19$\n",
    "   \n",
    "- $\\dots$"
   ]
  },
  {
   "cell_type": "code",
   "execution_count": 12,
   "metadata": {},
   "outputs": [
    {
     "data": {
      "text/html": [
       "<div>\n",
       "<style scoped>\n",
       "    .dataframe tbody tr th:only-of-type {\n",
       "        vertical-align: middle;\n",
       "    }\n",
       "\n",
       "    .dataframe tbody tr th {\n",
       "        vertical-align: top;\n",
       "    }\n",
       "\n",
       "    .dataframe thead th {\n",
       "        text-align: right;\n",
       "    }\n",
       "</style>\n",
       "<table border=\"1\" class=\"dataframe\">\n",
       "  <thead>\n",
       "    <tr style=\"text-align: right;\">\n",
       "      <th></th>\n",
       "      <th>new_cases</th>\n",
       "      <th>new_deaths</th>\n",
       "    </tr>\n",
       "  </thead>\n",
       "  <tbody>\n",
       "    <tr>\n",
       "      <th>count</th>\n",
       "      <td>155.000000</td>\n",
       "      <td>155.000000</td>\n",
       "    </tr>\n",
       "    <tr>\n",
       "      <th>mean</th>\n",
       "      <td>99.929032</td>\n",
       "      <td>4.438710</td>\n",
       "    </tr>\n",
       "    <tr>\n",
       "      <th>std</th>\n",
       "      <td>62.793116</td>\n",
       "      <td>4.003381</td>\n",
       "    </tr>\n",
       "    <tr>\n",
       "      <th>min</th>\n",
       "      <td>0.000000</td>\n",
       "      <td>0.000000</td>\n",
       "    </tr>\n",
       "    <tr>\n",
       "      <th>25%</th>\n",
       "      <td>50.000000</td>\n",
       "      <td>1.000000</td>\n",
       "    </tr>\n",
       "    <tr>\n",
       "      <th>50%</th>\n",
       "      <td>93.000000</td>\n",
       "      <td>3.000000</td>\n",
       "    </tr>\n",
       "    <tr>\n",
       "      <th>75%</th>\n",
       "      <td>145.000000</td>\n",
       "      <td>6.000000</td>\n",
       "    </tr>\n",
       "    <tr>\n",
       "      <th>max</th>\n",
       "      <td>269.000000</td>\n",
       "      <td>19.000000</td>\n",
       "    </tr>\n",
       "  </tbody>\n",
       "</table>\n",
       "</div>"
      ],
      "text/plain": [
       "        new_cases  new_deaths\n",
       "count  155.000000  155.000000\n",
       "mean    99.929032    4.438710\n",
       "std     62.793116    4.003381\n",
       "min      0.000000    0.000000\n",
       "25%     50.000000    1.000000\n",
       "50%     93.000000    3.000000\n",
       "75%    145.000000    6.000000\n",
       "max    269.000000   19.000000"
      ]
     },
     "execution_count": 12,
     "metadata": {},
     "output_type": "execute_result"
    }
   ],
   "source": [
    "daily_king.describe()"
   ]
  },
  {
   "cell_type": "markdown",
   "metadata": {},
   "source": [
    "Excellent, now we can use the information within `king` to make a variety of graphs ([bar](https://matplotlib.org/3.3.0/api/_as_gen/matplotlib.pyplot.bar.html), [step](https://matplotlib.org/3.1.1/api/_as_gen/matplotlib.pyplot.step.html), [etc](https://matplotlib.org/3.1.0/gallery/color/named_colors.html).) to better understand the dynamics of the virus over time and spot any trends that may appear."
   ]
  },
  {
   "cell_type": "code",
   "execution_count": 13,
   "metadata": {},
   "outputs": [],
   "source": [
    "def smoother(dataframe, cols, N=7):\n",
    "    '''\n",
    "    Args:  \n",
    "        dataframe (pandas DataFrame): the input dataframe of cumulative updates\n",
    "        cols (list): column labels\n",
    "        N (int >= 0): number of days to average\n",
    "        \n",
    "    Returns:       \n",
    "        new (pandas DataFrame): smoothed 7-day rolling average\n",
    "    \n",
    "    Notes:\n",
    "        To calculate the n-day average we make use of a generator \n",
    "        expression for readibility and to save memory\n",
    "        \n",
    "        https://www.python.org/dev/peps/pep-0289/\n",
    "    '''\n",
    "    new  = []\n",
    "    \n",
    "    # Loop over each date and take the differences\n",
    "    for i in range(N, len(dataframe)):       \n",
    "        # Generator expression to compute the sum\n",
    "        ave = sum(dataframe[cols].iloc[i-k] for k in [*range(N)]) / N\n",
    "        new.append(ave)\n",
    "            \n",
    "    # Get the indices of the data after the initial N-days and make DataFrame\n",
    "    idx = dataframe.index[N: len(dataframe)]\n",
    "    calc = pd.DataFrame(data=new, index=idx)\n",
    "    \n",
    "    # Append the averaged data to the initial N-days\n",
    "    temp = dataframe[cols].iloc[:N].append(calc)\n",
    "    \n",
    "    # Edit the column name(s) in temp to include 'average'\n",
    "    temp.columns = ['average_' + name for name in cols]\n",
    "    \n",
    "    return temp"
   ]
  },
  {
   "cell_type": "code",
   "execution_count": 14,
   "metadata": {},
   "outputs": [
    {
     "data": {
      "text/html": [
       "<div>\n",
       "<style scoped>\n",
       "    .dataframe tbody tr th:only-of-type {\n",
       "        vertical-align: middle;\n",
       "    }\n",
       "\n",
       "    .dataframe tbody tr th {\n",
       "        vertical-align: top;\n",
       "    }\n",
       "\n",
       "    .dataframe thead th {\n",
       "        text-align: right;\n",
       "    }\n",
       "</style>\n",
       "<table border=\"1\" class=\"dataframe\">\n",
       "  <thead>\n",
       "    <tr style=\"text-align: right;\">\n",
       "      <th></th>\n",
       "      <th>average_new_cases</th>\n",
       "      <th>average_new_deaths</th>\n",
       "    </tr>\n",
       "    <tr>\n",
       "      <th>date</th>\n",
       "      <th></th>\n",
       "      <th></th>\n",
       "    </tr>\n",
       "  </thead>\n",
       "  <tbody>\n",
       "    <tr>\n",
       "      <th>2020-07-30</th>\n",
       "      <td>174.428571</td>\n",
       "      <td>1.285714</td>\n",
       "    </tr>\n",
       "    <tr>\n",
       "      <th>2020-07-31</th>\n",
       "      <td>164.285714</td>\n",
       "      <td>0.857143</td>\n",
       "    </tr>\n",
       "    <tr>\n",
       "      <th>2020-08-01</th>\n",
       "      <td>163.428571</td>\n",
       "      <td>1.571429</td>\n",
       "    </tr>\n",
       "  </tbody>\n",
       "</table>\n",
       "</div>"
      ],
      "text/plain": [
       "            average_new_cases  average_new_deaths\n",
       "date                                             \n",
       "2020-07-30         174.428571            1.285714\n",
       "2020-07-31         164.285714            0.857143\n",
       "2020-08-01         163.428571            1.571429"
      ]
     },
     "execution_count": 14,
     "metadata": {},
     "output_type": "execute_result"
    }
   ],
   "source": [
    "smoothed = smoother(daily_king, ['new_cases','new_deaths'], 7)\n",
    "smoothed.tail(3)"
   ]
  },
  {
   "cell_type": "markdown",
   "metadata": {},
   "source": [
    "To make the [dates on the x-axis look more appealing](https://www.earthdatascience.org/courses/use-data-open-source-python/use-time-series-data-in-python/date-time-types-in-pandas-python/customize-dates-matplotlib-plots-python/) we will use the `DateFormatter` module from `matplotlib` to customize the display format: `\"%X %X\"` where each `%X`  represents:\n",
    "\n",
    "Syntax | Meaning | Example: (July 2020)\n",
    "---|---|---\n",
    "`%Y` | 4 digit year | 2020\n",
    "`%y` | 2 digit year | 20\n",
    "`%m` | month as a number | 07\n",
    "`%b` | month as abbreviated name | Jul\n"
   ]
  },
  {
   "cell_type": "code",
   "execution_count": 15,
   "metadata": {},
   "outputs": [
    {
     "data": {
      "image/png": "[encoded data removed]",
      "text/plain": [
       "<Figure size 936x936 with 2 Axes>"
      ]
     },
     "metadata": {},
     "output_type": "display_data"
    }
   ],
   "source": [
    "fig, ax = plt.subplots(2, figsize=(13,13))\n",
    "\n",
    "plt.style.use('ggplot')\n",
    "\n",
    "# Plot the new reported cases\n",
    "ax[0].bar(daily_king.index, \n",
    "           daily_king.new_cases,  \n",
    "           color='deepskyblue',\n",
    "           label='Daily Reported Cases',\n",
    "           alpha=0.8)\n",
    "\n",
    "ax[0].step(smoothed.index, \n",
    "           smoothed.average_new_cases, \n",
    "           color='black',\n",
    "           alpha=0.8,\n",
    "           label='7-day Average Cases')\n",
    "\n",
    "# Plot the new reported deaths\n",
    "ax[1].bar(daily_king.index, \n",
    "           daily_king.new_deaths, \n",
    "           color='purple',\n",
    "           label='Daily Reported Deaths',\n",
    "           alpha=0.6)\n",
    "\n",
    "ax[1].step(smoothed.index, \n",
    "           smoothed.average_new_deaths, \n",
    "           color='black',\n",
    "           alpha=0.8,\n",
    "           label='7-day Average Deaths')\n",
    "\n",
    "# Set axis labels and titles\n",
    "ax[0].set_title('Reported New Cases King County WA', fontsize=18)\n",
    "ax[0].set_ylabel('Daily Cases', fontsize=18)\n",
    "ax[1].set_title('Reported New Deaths King County WA', fontsize=18)\n",
    "ax[1].set_ylabel('Daily Deaths', fontsize=18)\n",
    "\n",
    "# Format the dates displayed on the xaxis\n",
    "date_form = DateFormatter(\"%b\")\n",
    "ax[0].xaxis.set_major_formatter(date_form)\n",
    "ax[1].xaxis.set_major_formatter(date_form)\n",
    "\n",
    "# Show the legend and plots\n",
    "ax[0].legend()\n",
    "ax[1].legend(loc='upper center')\n",
    "\n",
    "plt.savefig('figures/Daily_King_County')\n",
    "plt.show()"
   ]
  },
  {
   "cell_type": "markdown",
   "metadata": {},
   "source": [
    "## __Action item:__ \n",
    "Since all the plotting calls look similar so far I should make a function that takes in a dataframe, list of column names (str) to plot (list), a title (str), line labels (str), figsize (tuple), and axis object to determine if a subplot is needed "
   ]
  },
  {
   "cell_type": "code",
   "execution_count": 16,
   "metadata": {},
   "outputs": [
    {
     "data": {
      "image/png": "[encoded data removed]",
      "text/plain": [
       "<Figure size 936x504 with 1 Axes>"
      ]
     },
     "metadata": {},
     "output_type": "display_data"
    }
   ],
   "source": [
    "fig, ax = plt.subplots(figsize=(13,7))\n",
    "\n",
    "plt.style.use('ggplot')\n",
    "\n",
    "ax.bar(king.index,\n",
    "       king.cases,\n",
    "       color='thistle',\n",
    "       label='Cumulative Cases',\n",
    "       width=1)\n",
    "\n",
    "ax.bar(king.index,\n",
    "       king.deaths,\n",
    "       color='purple',\n",
    "       label='Cumulative Deaths',\n",
    "       width=1,\n",
    "       alpha=0.8)\n",
    "\n",
    "ax.set_title('Cumulative Reported Cases and Deaths (King County WA)', fontsize=18)\n",
    "\n",
    "# Annotate with the total number of cases and deaths. Note that the position is different in the notebook\n",
    "# and in the saved .png figure. Position for notebook: (75, 332), (75, 312)\n",
    "ax.annotate('Total Cases:  {:,}'.format(king.cases.values[-1]), (130,362), fontsize=17, xycoords='figure pixels')\n",
    "ax.annotate('Total Deaths:      {:,}'.format(king.deaths.values[-1]), (130,342), fontsize=17, xycoords='figure pixels')\n",
    "\n",
    "date_form = DateFormatter(\"%b\")\n",
    "ax.xaxis.set_major_formatter(date_form)\n",
    "\n",
    "plt.legend()\n",
    "plt.savefig('figures/Cumulative_King_County')\n",
    "plt.show()"
   ]
  },
  {
   "cell_type": "markdown",
   "metadata": {},
   "source": [
    "### COVID-19 by US Regions\n",
    "\n",
    "Now we'll filter `df` by regions of the US, however, it's somewhat tedious to keep this record using the full state names. As such, we'll manually add the appropriate postal code labels to a list. Next, we'll grab a mapping of the postal codes and state names from a table made available by the [Natural Resources Conservation Service (NRCS)](https://www.nrcs.usda.gov/wps/portal/nrcs/detail/?cid=nrcs143_013696) using [`BeautifulSoup`](https://www.crummy.com/software/BeautifulSoup/bs4/doc/) and the `requests` module. Finally, we'll [merge](https://pandas.pydata.org/pandas-docs/stable/reference/api/pandas.DataFrame.merge.html) the postal codes to `df`. Note that the `fips` columns in the two DataFrames differ. The `fips` codes given by the NRCS are directly compatible with the `.geojson` file we'll be using to make the maps."
   ]
  },
  {
   "cell_type": "code",
   "execution_count": 17,
   "metadata": {},
   "outputs": [],
   "source": [
    "# Lists of the regions of the US\n",
    "northeast = ['CT', 'DE', 'ME', 'MD', 'MA', 'NH', 'NJ', 'NY', 'PA', 'RI', 'VT']\n",
    "midwest = ['IL', 'IN', 'IA', 'KA', 'MI', 'MO', 'MN', 'NE', 'ND', 'OH', 'SD', 'WI']\n",
    "south = ['AL', 'AR', 'FL', 'GA', 'KY', 'LA', 'MS', 'NC', 'OK', 'SC', 'TN', 'TX', 'VA', 'WV']\n",
    "west = ['AK', 'AZ', 'CA', 'CO', 'HI', 'ID', 'MT', 'NV', 'NM', 'OR', 'UR', 'WA', 'WY']"
   ]
  },
  {
   "cell_type": "code",
   "execution_count": 18,
   "metadata": {},
   "outputs": [
    {
     "data": {
      "text/html": [
       "<div>\n",
       "<style scoped>\n",
       "    .dataframe tbody tr th:only-of-type {\n",
       "        vertical-align: middle;\n",
       "    }\n",
       "\n",
       "    .dataframe tbody tr th {\n",
       "        vertical-align: top;\n",
       "    }\n",
       "\n",
       "    .dataframe thead th {\n",
       "        text-align: right;\n",
       "    }\n",
       "</style>\n",
       "<table border=\"1\" class=\"dataframe\">\n",
       "  <thead>\n",
       "    <tr style=\"text-align: right;\">\n",
       "      <th></th>\n",
       "      <th>name</th>\n",
       "      <th>postal code</th>\n",
       "      <th>fips</th>\n",
       "    </tr>\n",
       "  </thead>\n",
       "  <tbody>\n",
       "    <tr>\n",
       "      <th>0</th>\n",
       "      <td>Alabama</td>\n",
       "      <td>AL</td>\n",
       "      <td>01</td>\n",
       "    </tr>\n",
       "    <tr>\n",
       "      <th>1</th>\n",
       "      <td>Alaska</td>\n",
       "      <td>AK</td>\n",
       "      <td>02</td>\n",
       "    </tr>\n",
       "    <tr>\n",
       "      <th>2</th>\n",
       "      <td>Arizona</td>\n",
       "      <td>AZ</td>\n",
       "      <td>04</td>\n",
       "    </tr>\n",
       "    <tr>\n",
       "      <th>3</th>\n",
       "      <td>Arkansas</td>\n",
       "      <td>AR</td>\n",
       "      <td>05</td>\n",
       "    </tr>\n",
       "    <tr>\n",
       "      <th>4</th>\n",
       "      <td>California</td>\n",
       "      <td>CA</td>\n",
       "      <td>06</td>\n",
       "    </tr>\n",
       "  </tbody>\n",
       "</table>\n",
       "</div>"
      ],
      "text/plain": [
       "         name postal code fips\n",
       "0     Alabama          AL   01\n",
       "1      Alaska          AK   02\n",
       "2     Arizona          AZ   04\n",
       "3    Arkansas          AR   05\n",
       "4  California          CA   06"
      ]
     },
     "execution_count": 18,
     "metadata": {},
     "output_type": "execute_result"
    }
   ],
   "source": [
    "url = \"https://www.nrcs.usda.gov/wps/portal/nrcs/detail/?cid=nrcs143_013696\"\n",
    "html_content = requests.get(url).text      # Make a GET request to fetch the raw HTML content\n",
    "soup = BeautifulSoup(html_content, \"lxml\") # Parse the html content\n",
    "\n",
    "fips, countyName, stateName = [], [], []\n",
    "for tr in soup.find_all('tr')[29:-6]: #Found bounds manually\n",
    "    tds = tr.find_all('td')\n",
    "    fips.append(tds[0].text.replace('\\r\\n\\t\\t\\t\\t',''))\n",
    "    countyName.append(tds[1].text.replace('\\r\\n\\t\\t\\t\\t',''))\n",
    "    stateName.append(tds[2].text.replace('\\r\\n\\t\\t\\t\\t',''))\n",
    "\n",
    "statefips = pd.DataFrame()\n",
    "statefips['name'] = fips\n",
    "statefips['postal code'] = countyName\n",
    "statefips['fips'] = stateName\n",
    "statefips.head()"
   ]
  },
  {
   "cell_type": "code",
   "execution_count": 19,
   "metadata": {},
   "outputs": [
    {
     "data": {
      "text/html": [
       "<div>\n",
       "<style scoped>\n",
       "    .dataframe tbody tr th:only-of-type {\n",
       "        vertical-align: middle;\n",
       "    }\n",
       "\n",
       "    .dataframe tbody tr th {\n",
       "        vertical-align: top;\n",
       "    }\n",
       "\n",
       "    .dataframe thead th {\n",
       "        text-align: right;\n",
       "    }\n",
       "</style>\n",
       "<table border=\"1\" class=\"dataframe\">\n",
       "  <thead>\n",
       "    <tr style=\"text-align: right;\">\n",
       "      <th></th>\n",
       "      <th>county</th>\n",
       "      <th>cases</th>\n",
       "      <th>deaths</th>\n",
       "      <th>postal code</th>\n",
       "      <th>fips</th>\n",
       "    </tr>\n",
       "    <tr>\n",
       "      <th>date</th>\n",
       "      <th></th>\n",
       "      <th></th>\n",
       "      <th></th>\n",
       "      <th></th>\n",
       "      <th></th>\n",
       "    </tr>\n",
       "  </thead>\n",
       "  <tbody>\n",
       "    <tr>\n",
       "      <th>2020-01-21</th>\n",
       "      <td>Snohomish</td>\n",
       "      <td>1</td>\n",
       "      <td>0</td>\n",
       "      <td>WA</td>\n",
       "      <td>53</td>\n",
       "    </tr>\n",
       "    <tr>\n",
       "      <th>2020-01-22</th>\n",
       "      <td>Snohomish</td>\n",
       "      <td>1</td>\n",
       "      <td>0</td>\n",
       "      <td>WA</td>\n",
       "      <td>53</td>\n",
       "    </tr>\n",
       "    <tr>\n",
       "      <th>2020-01-23</th>\n",
       "      <td>Snohomish</td>\n",
       "      <td>1</td>\n",
       "      <td>0</td>\n",
       "      <td>WA</td>\n",
       "      <td>53</td>\n",
       "    </tr>\n",
       "    <tr>\n",
       "      <th>2020-01-24</th>\n",
       "      <td>Snohomish</td>\n",
       "      <td>1</td>\n",
       "      <td>0</td>\n",
       "      <td>WA</td>\n",
       "      <td>53</td>\n",
       "    </tr>\n",
       "    <tr>\n",
       "      <th>2020-01-24</th>\n",
       "      <td>Cook</td>\n",
       "      <td>1</td>\n",
       "      <td>0</td>\n",
       "      <td>IL</td>\n",
       "      <td>17</td>\n",
       "    </tr>\n",
       "  </tbody>\n",
       "</table>\n",
       "</div>"
      ],
      "text/plain": [
       "               county  cases  deaths postal code fips\n",
       "date                                                 \n",
       "2020-01-21  Snohomish      1       0          WA   53\n",
       "2020-01-22  Snohomish      1       0          WA   53\n",
       "2020-01-23  Snohomish      1       0          WA   53\n",
       "2020-01-24  Snohomish      1       0          WA   53\n",
       "2020-01-24       Cook      1       0          IL   17"
      ]
     },
     "execution_count": 19,
     "metadata": {},
     "output_type": "execute_result"
    }
   ],
   "source": [
    "data = df.reset_index()\n",
    "data = data.drop('fips', axis=1).merge(statefips, left_on='state', right_on='name', how='inner')\n",
    "data = data.drop(['name','state'], axis=1).set_index('date').sort_values('date')\n",
    "data.head()"
   ]
  },
  {
   "cell_type": "markdown",
   "metadata": {},
   "source": [
    "Now we're ready to subset `data` by regions. Notice that `data`, and therefore `NE`,`S`,`MW`,`W`, have multiple entries for any single date, because the virus spread to multiple locations as time went on. We'll need to aggregate those entries into a single instance of that date describing the number of cases for the entire region on that day before passing it to `dailyChanges()`."
   ]
  },
  {
   "cell_type": "code",
   "execution_count": 20,
   "metadata": {},
   "outputs": [],
   "source": [
    "NE = data[data['postal code'].isin(northeast)]\n",
    "S = data.loc[data['postal code'].isin(south)]\n",
    "MW  = data.loc[data['postal code'].isin(midwest)]\n",
    "W = data.loc[data['postal code'].isin(west)]"
   ]
  },
  {
   "cell_type": "code",
   "execution_count": 21,
   "metadata": {},
   "outputs": [],
   "source": [
    "def sumByDate(dataframe, cols):\n",
    "    '''\n",
    "    Args:\n",
    "        dataframe (DataFrame): A dataframe with multiple entries for \n",
    "                               any single date. Indexed by date.\n",
    "        cols (list): list of columns to consider\n",
    "        \n",
    "    Returns:\n",
    "        aggDF (DataFrame): A dataframe with a single entry for any\n",
    "                           single date, aggregated by sum\n",
    "        \n",
    "    Notes:\n",
    "    '''\n",
    "    # Get the unique dates\n",
    "    idx = dataframe.index.unique()\n",
    "    sumDF = pd.DataFrame(index=idx, columns=cols)\n",
    "    for date in idx:\n",
    "        sumDF.loc[date] = dataframe[cols].loc[date].sum()\n",
    "    return sumDF"
   ]
  },
  {
   "cell_type": "code",
   "execution_count": 22,
   "metadata": {},
   "outputs": [],
   "source": [
    "# Aggregate the multiple cases on any one date\n",
    "sum_NE = sumByDate(NE, ['cases'])\n",
    "sum_S = sumByDate(S, ['cases'])\n",
    "sum_MW = sumByDate(MW, ['cases'])\n",
    "sum_W = sumByDate(W, ['cases'])"
   ]
  },
  {
   "cell_type": "code",
   "execution_count": 23,
   "metadata": {},
   "outputs": [],
   "source": [
    "# Find the newly reported daily cases \n",
    "dailyNE = dailyChanges(sum_NE, ['cases'])\n",
    "dailyS = dailyChanges(sum_S, ['cases'])\n",
    "dailyMW = dailyChanges(sum_MW, ['cases'])\n",
    "dailyW = dailyChanges(sum_W, ['cases'])"
   ]
  },
  {
   "cell_type": "markdown",
   "metadata": {},
   "source": [
    "The . We'll also add an annotation describing the percentage of the regional population that's been reported as infected with COVID-19 using regional population data from the  [US Census Bureau](https://www.census.gov/popclock/print.php?component=growth&image=//www.census.gov/popclock/share/images/growth_1561939200.png). "
   ]
  },
  {
   "cell_type": "code",
   "execution_count": 40,
   "metadata": {},
   "outputs": [],
   "source": [
    "popNE, popS, popMW, popW = 55982803, 68329004, 78347268, 125580448\n",
    "\n",
    "# Percent of regional population infected\n",
    "percentW = (dailyW.sum()[0] / popW) * 100\n",
    "percentMW = (dailyMW.sum()[0] / popMW) * 100\n",
    "percentNE = (dailyNE.sum()[0] / popNE) * 100\n",
    "percentS = (dailyS.sum()[0] / popS) * 100"
   ]
  },
  {
   "cell_type": "code",
   "execution_count": 50,
   "metadata": {},
   "outputs": [
    {
     "data": {
      "image/png": "[encoded data removed]",
      "text/plain": [
       "<Figure size 1296x576 with 4 Axes>"
      ]
     },
     "metadata": {},
     "output_type": "display_data"
    }
   ],
   "source": [
    "fig, ax = plt.subplots(2,2, sharey=True, sharex=True, figsize=(18,8))\n",
    "\n",
    "plt.style.use('ggplot')\n",
    "\n",
    "# Format the dates displayed on the xaxis\n",
    "date_form = DateFormatter(\"%b\")\n",
    "ax[0,0].xaxis.set_major_formatter(date_form)\n",
    "ax[0,1].xaxis.set_major_formatter(date_form)\n",
    "ax[1,0].xaxis.set_major_formatter(date_form)\n",
    "ax[1,1].xaxis.set_major_formatter(date_form)\n",
    "\n",
    "\n",
    "# Plot the Northeast\n",
    "ax[1,1].bar(dailyNE.index, \n",
    "            dailyNE.new_cases,  \n",
    "            color='deepskyblue',\n",
    "            width=1,\n",
    "            label='Northeastern',\n",
    "            alpha=0.6)\n",
    "\n",
    "# Plot the South\n",
    "ax[1,0].bar(dailyS.index, \n",
    "            dailyS.new_cases,  \n",
    "            color='deepskyblue',\n",
    "            width=1,\n",
    "            label='Southern',\n",
    "            alpha=0.6)\n",
    "\n",
    "# Plot the Midwest\n",
    "ax[0,1].bar(dailyMW.index, \n",
    "            dailyMW.new_cases,  \n",
    "            color='deepskyblue',\n",
    "            width=1,\n",
    "            label='Midwestern',\n",
    "            alpha=0.6)\n",
    "\n",
    "# Plot the West\n",
    "ax[0,0].bar(dailyW.index, \n",
    "            dailyW.new_cases, \n",
    "            width=1,\n",
    "            color='deepskyblue',\n",
    "            label='Western',\n",
    "            alpha=0.6)\n",
    "\n",
    "# Set title\n",
    "fig.suptitle('Reported New Cases by US Region', fontsize=20)\n",
    "ax[0,0].set_title('Western US', fontsize=18)\n",
    "ax[0,1].set_title('Midwestern US', fontsize=18)\n",
    "ax[1,1].set_title('Northeastern US', fontsize=18)\n",
    "ax[1,0].set_title('Southern US', fontsize=18)\n",
    "\n",
    "# Annotate with the total number of cases and deaths. Note that the position \n",
    "# is different in the notebook and in the saved .png figure\n",
    "# To view in the notebook use: (90,440), (635,440), (635,203), (90,203), respectively\n",
    "ax[0,0].annotate('Total Cases: {:,}\\nPercent of Population: {:.2f}'.format(int(dailyW.sum()[0]), percentW), \n",
    "                 (170,470), \n",
    "                 fontsize=17, \n",
    "                 xycoords='figure pixels')\n",
    "\n",
    "ax[0,1].annotate('Total Cases: {:,}\\nPercent of Population: {:.2f}'.format(int(dailyMW.sum()[0]), percentMW), \n",
    "                 (715,470), \n",
    "                 fontsize=17, \n",
    "                 xycoords='figure pixels')\n",
    "\n",
    "ax[1,1].annotate('Total Cases: {:,}\\nPercent of Population: {:.2f}'.format(int(dailyNE.sum()[0]), percentNE),\n",
    "                 (715,233), \n",
    "                 fontsize=17, \n",
    "                 xycoords='figure pixels')\n",
    "\n",
    "ax[1,0].annotate('Total Cases: {:,}\\nPercent of Population: {:.2f}'.format(int(dailyS.sum()[0]), percentS), \n",
    "                 (170,233), \n",
    "                 fontsize=17,\n",
    "                 xycoords='figure pixels')\n",
    "\n",
    "plt.savefig('figures/Daily_US_Regions')\n",
    "plt.show()"
   ]
  },
  {
   "cell_type": "markdown",
   "metadata": {},
   "source": [
    "### COVID-19 in the US as a Whole\n",
    "Rather than aggregating `cases` and `deaths` by `datatime` instance to get the total daily reported cases and deaths in the US, let's import a dataset that already has that information and produce a bar graph."
   ]
  },
  {
   "cell_type": "code",
   "execution_count": 25,
   "metadata": {},
   "outputs": [
    {
     "data": {
      "text/html": [
       "<div>\n",
       "<style scoped>\n",
       "    .dataframe tbody tr th:only-of-type {\n",
       "        vertical-align: middle;\n",
       "    }\n",
       "\n",
       "    .dataframe tbody tr th {\n",
       "        vertical-align: top;\n",
       "    }\n",
       "\n",
       "    .dataframe thead th {\n",
       "        text-align: right;\n",
       "    }\n",
       "</style>\n",
       "<table border=\"1\" class=\"dataframe\">\n",
       "  <thead>\n",
       "    <tr style=\"text-align: right;\">\n",
       "      <th></th>\n",
       "      <th>cases</th>\n",
       "      <th>deaths</th>\n",
       "    </tr>\n",
       "    <tr>\n",
       "      <th>date</th>\n",
       "      <th></th>\n",
       "      <th></th>\n",
       "    </tr>\n",
       "  </thead>\n",
       "  <tbody>\n",
       "    <tr>\n",
       "      <th>2020-07-28</th>\n",
       "      <td>4366922</td>\n",
       "      <td>149774</td>\n",
       "    </tr>\n",
       "    <tr>\n",
       "      <th>2020-07-29</th>\n",
       "      <td>4435382</td>\n",
       "      <td>151194</td>\n",
       "    </tr>\n",
       "    <tr>\n",
       "      <th>2020-07-30</th>\n",
       "      <td>4502549</td>\n",
       "      <td>152431</td>\n",
       "    </tr>\n",
       "    <tr>\n",
       "      <th>2020-07-31</th>\n",
       "      <td>4570295</td>\n",
       "      <td>153855</td>\n",
       "    </tr>\n",
       "    <tr>\n",
       "      <th>2020-08-01</th>\n",
       "      <td>4628478</td>\n",
       "      <td>154909</td>\n",
       "    </tr>\n",
       "  </tbody>\n",
       "</table>\n",
       "</div>"
      ],
      "text/plain": [
       "              cases  deaths\n",
       "date                       \n",
       "2020-07-28  4366922  149774\n",
       "2020-07-29  4435382  151194\n",
       "2020-07-30  4502549  152431\n",
       "2020-07-31  4570295  153855\n",
       "2020-08-01  4628478  154909"
      ]
     },
     "execution_count": 25,
     "metadata": {},
     "output_type": "execute_result"
    }
   ],
   "source": [
    "# URL to NY Times COVID-19 data\n",
    "url = \"https://raw.githubusercontent.com/nytimes/covid-19-data/master/us.csv\"\n",
    "\n",
    "# Read the values, set the indices, parse the dates, and alphabetize\n",
    "usa = pd.read_csv(url, \n",
    "                  header=0, \n",
    "                  index_col=['date'], \n",
    "                  parse_dates=True).sort_index()\n",
    "usa.tail(3)"
   ]
  },
  {
   "cell_type": "code",
   "execution_count": 26,
   "metadata": {},
   "outputs": [
    {
     "data": {
      "text/html": [
       "<div>\n",
       "<style scoped>\n",
       "    .dataframe tbody tr th:only-of-type {\n",
       "        vertical-align: middle;\n",
       "    }\n",
       "\n",
       "    .dataframe tbody tr th {\n",
       "        vertical-align: top;\n",
       "    }\n",
       "\n",
       "    .dataframe thead th {\n",
       "        text-align: right;\n",
       "    }\n",
       "</style>\n",
       "<table border=\"1\" class=\"dataframe\">\n",
       "  <thead>\n",
       "    <tr style=\"text-align: right;\">\n",
       "      <th></th>\n",
       "      <th>new_cases</th>\n",
       "      <th>new_deaths</th>\n",
       "    </tr>\n",
       "    <tr>\n",
       "      <th>date</th>\n",
       "      <th></th>\n",
       "      <th></th>\n",
       "    </tr>\n",
       "  </thead>\n",
       "  <tbody>\n",
       "    <tr>\n",
       "      <th>2020-07-28</th>\n",
       "      <td>63109.0</td>\n",
       "      <td>1324.0</td>\n",
       "    </tr>\n",
       "    <tr>\n",
       "      <th>2020-07-29</th>\n",
       "      <td>68460.0</td>\n",
       "      <td>1420.0</td>\n",
       "    </tr>\n",
       "    <tr>\n",
       "      <th>2020-07-30</th>\n",
       "      <td>67167.0</td>\n",
       "      <td>1237.0</td>\n",
       "    </tr>\n",
       "    <tr>\n",
       "      <th>2020-07-31</th>\n",
       "      <td>67746.0</td>\n",
       "      <td>1424.0</td>\n",
       "    </tr>\n",
       "    <tr>\n",
       "      <th>2020-08-01</th>\n",
       "      <td>58183.0</td>\n",
       "      <td>1054.0</td>\n",
       "    </tr>\n",
       "  </tbody>\n",
       "</table>\n",
       "</div>"
      ],
      "text/plain": [
       "            new_cases  new_deaths\n",
       "date                             \n",
       "2020-07-28    63109.0      1324.0\n",
       "2020-07-29    68460.0      1420.0\n",
       "2020-07-30    67167.0      1237.0\n",
       "2020-07-31    67746.0      1424.0\n",
       "2020-08-01    58183.0      1054.0"
      ]
     },
     "execution_count": 26,
     "metadata": {},
     "output_type": "execute_result"
    }
   ],
   "source": [
    "usa_daily = dailyChanges(usa, ['cases','deaths'])\n",
    "usa_daily.tail(3)"
   ]
  },
  {
   "cell_type": "code",
   "execution_count": 32,
   "metadata": {},
   "outputs": [
    {
     "data": {
      "image/png": "[encoded data removed]",
      "text/plain": [
       "<Figure size 936x504 with 2 Axes>"
      ]
     },
     "metadata": {},
     "output_type": "display_data"
    }
   ],
   "source": [
    "fig, ax = plt.subplots(figsize=(13,7))\n",
    "\n",
    "plt.style.use('ggplot')\n",
    "\n",
    "# Plot the new US cases\n",
    "ax.bar(usa_daily.index,\n",
    "       usa_daily.new_cases,\n",
    "       color='deepskyblue',\n",
    "       label='New Cases',\n",
    "       width=1,\n",
    "       alpha=0.6)\n",
    "\n",
    "# Let the deaths be described by another pair of axis for enlargement\n",
    "ax2 = ax.twinx()\n",
    "\n",
    "# Plot the new US deaths\n",
    "ax2.step(usa_daily.index,\n",
    "         usa_daily.new_deaths,\n",
    "         color='purple',\n",
    "         label='New Deaths',\n",
    "         alpha=0.8)\n",
    "\n",
    "ax.set_title('Daily Reported Cases and Deaths in the US', fontsize=18)\n",
    "\n",
    "# Annotate with the total number of cases and deaths. Note that the position is different in the notebook\n",
    "# and in the saved .png figure. Positions for notebook: (75,322), (75,302)\n",
    "ax.annotate('Total Cases:  {:,}'.format(usa.cases.values[-1]), (130,354), fontsize=17, xycoords='figure pixels')\n",
    "ax.annotate('Total Deaths:    {:,}'.format(usa.deaths.values[-1]), (130,334), fontsize=17, xycoords='figure pixels')\n",
    "\n",
    "# Formate the x-axis dates\n",
    "date_form = DateFormatter(\"%b\")\n",
    "ax.xaxis.set_major_formatter(date_form)\n",
    "\n",
    "# Make ax2 tick labels the color of the graph\n",
    "ax2.tick_params(axis='y', labelcolor='purple')\n",
    "\n",
    "# Format the legend and grid\n",
    "ax.legend(loc='upper left')\n",
    "ax2.legend(loc='upper left', bbox_to_anchor=(0, 0.92))\n",
    "ax2.grid(False)\n",
    "\n",
    "# Save the figure\n",
    "plt.savefig('figures/Daily_US')\n",
    "plt.show()"
   ]
  },
  {
   "cell_type": "markdown",
   "metadata": {},
   "source": [
    "## __Action item:__ \n",
    "investigate the `'Unknown'` county reported and drop it if necessary"
   ]
  },
  {
   "cell_type": "code",
   "execution_count": 28,
   "metadata": {},
   "outputs": [
    {
     "data": {
      "text/plain": [
       "Index(['Adams', 'Asotin', 'Benton', 'Chelan', 'Clallam', 'Clark', 'Columbia',\n",
       "       'Cowlitz', 'Douglas', 'Ferry', 'Franklin', 'Garfield', 'Grant',\n",
       "       'Grays Harbor', 'Island', 'Jefferson', 'King', 'Kitsap', 'Kittitas',\n",
       "       'Klickitat', 'Lewis', 'Lincoln', 'Mason', 'Okanogan', 'Pacific',\n",
       "       'Pend Oreille', 'Pierce', 'San Juan', 'Skagit', 'Skamania', 'Snohomish',\n",
       "       'Spokane', 'Stevens', 'Thurston', 'Unknown', 'Wahkiakum', 'Walla Walla',\n",
       "       'Whatcom', 'Whitman', 'Yakima'],\n",
       "      dtype='object', name='county')"
      ]
     },
     "execution_count": 28,
     "metadata": {},
     "output_type": "execute_result"
    }
   ],
   "source": [
    "# Now let's see how we can get the county information\n",
    "df.loc[('Washington')].index.get_level_values(0).unique() "
   ]
  },
  {
   "cell_type": "code",
   "execution_count": 29,
   "metadata": {},
   "outputs": [],
   "source": [
    "def plotNewCases(dataf, title, fname):\n",
    "    '''\n",
    "    \n",
    "    '''\n",
    "    fig, ax = plt.subplots(figsize=(14,8))\n",
    "\n",
    "    _ = ax.bar(dataf.index, dataf['cases'])\n",
    "\n",
    "    #set ticks every week\n",
    "    ax.xaxis.set_major_locator(mdates.WeekdayLocator())\n",
    "    #set major ticks format\n",
    "    ax.xaxis.set_major_formatter(mdates.DateFormatter('%b %d'))\n",
    "    plt.title(title, fontsize=25)\n",
    "    plt.grid(True)\n",
    "    plt.savefig(fname)"
   ]
  },
  {
   "cell_type": "code",
   "execution_count": 30,
   "metadata": {
    "scrolled": true
   },
   "outputs": [
    {
     "ename": "NameError",
     "evalue": "name 'dailynums' is not defined",
     "output_type": "error",
     "traceback": [
      "\u001b[1;31m---------------------------------------------------------------------------\u001b[0m",
      "\u001b[1;31mNameError\u001b[0m                                 Traceback (most recent call last)",
      "\u001b[1;32m<ipython-input-30-0a6f4a05f676>\u001b[0m in \u001b[0;36m<module>\u001b[1;34m\u001b[0m\n\u001b[0;32m      2\u001b[0m \u001b[1;33m\u001b[0m\u001b[0m\n\u001b[0;32m      3\u001b[0m \u001b[1;32mfor\u001b[0m \u001b[0mi\u001b[0m \u001b[1;32min\u001b[0m \u001b[0mrange\u001b[0m\u001b[1;33m(\u001b[0m\u001b[0mlen\u001b[0m\u001b[1;33m(\u001b[0m\u001b[0mcountiesWA\u001b[0m\u001b[1;33m)\u001b[0m\u001b[1;33m)\u001b[0m\u001b[1;33m:\u001b[0m\u001b[1;33m\u001b[0m\u001b[1;33m\u001b[0m\u001b[0m\n\u001b[1;32m----> 4\u001b[1;33m     \u001b[0mnewcases\u001b[0m \u001b[1;33m=\u001b[0m \u001b[0mdailynums\u001b[0m\u001b[1;33m(\u001b[0m\u001b[0mdf\u001b[0m\u001b[1;33m.\u001b[0m\u001b[0mloc\u001b[0m\u001b[1;33m[\u001b[0m\u001b[1;33m(\u001b[0m\u001b[1;34m'Washington'\u001b[0m\u001b[1;33m,\u001b[0m\u001b[0mcountiesWA\u001b[0m\u001b[1;33m[\u001b[0m\u001b[0mi\u001b[0m\u001b[1;33m]\u001b[0m\u001b[1;33m)\u001b[0m\u001b[1;33m]\u001b[0m\u001b[1;33m,\u001b[0m \u001b[1;33m[\u001b[0m\u001b[1;34m'cases'\u001b[0m\u001b[1;33m]\u001b[0m\u001b[1;33m)\u001b[0m\u001b[1;33m.\u001b[0m\u001b[0mapply\u001b[0m\u001b[1;33m(\u001b[0m\u001b[0mabs\u001b[0m\u001b[1;33m)\u001b[0m\u001b[1;33m\u001b[0m\u001b[1;33m\u001b[0m\u001b[0m\n\u001b[0m\u001b[0;32m      5\u001b[0m     \u001b[0mtitles\u001b[0m \u001b[1;33m=\u001b[0m \u001b[1;33m[\u001b[0m\u001b[1;34m'New COVID-19 Cases '\u001b[0m\u001b[1;33m+\u001b[0m\u001b[0mstr\u001b[0m\u001b[1;33m(\u001b[0m\u001b[0mc\u001b[0m\u001b[1;33m)\u001b[0m\u001b[1;33m+\u001b[0m\u001b[1;34m' County WA'\u001b[0m \u001b[1;32mfor\u001b[0m \u001b[0mc\u001b[0m \u001b[1;32min\u001b[0m \u001b[0mcountiesWA\u001b[0m\u001b[1;33m]\u001b[0m\u001b[1;33m\u001b[0m\u001b[1;33m\u001b[0m\u001b[0m\n\u001b[0;32m      6\u001b[0m     \u001b[0mplotNewCases\u001b[0m\u001b[1;33m(\u001b[0m\u001b[0mnewcases\u001b[0m\u001b[1;33m,\u001b[0m \u001b[0mtitles\u001b[0m\u001b[1;33m[\u001b[0m\u001b[0mi\u001b[0m\u001b[1;33m]\u001b[0m\u001b[1;33m,\u001b[0m \u001b[0mfname\u001b[0m\u001b[1;33m=\u001b[0m\u001b[0mtitles\u001b[0m\u001b[1;33m[\u001b[0m\u001b[0mi\u001b[0m\u001b[1;33m]\u001b[0m\u001b[1;33m)\u001b[0m\u001b[1;33m\u001b[0m\u001b[1;33m\u001b[0m\u001b[0m\n",
      "\u001b[1;31mNameError\u001b[0m: name 'dailynums' is not defined"
     ]
    }
   ],
   "source": [
    "countiesWA = df.loc[('Washington')].index.get_level_values(0).unique() # get the counties\n",
    "\n",
    "for i in range(len(countiesWA)):\n",
    "    newcases = dailynums(df.loc[('Washington',countiesWA[i])], ['cases']).apply(abs)\n",
    "    titles = ['New COVID-19 Cases '+str(c)+' County WA' for c in countiesWA]\n",
    "    plotNewCases(newcases, titles[i], fname=titles[i])"
   ]
  },
  {
   "cell_type": "code",
   "execution_count": null,
   "metadata": {
    "scrolled": false
   },
   "outputs": [],
   "source": [
    "'''\n",
    "counties = df.loc[('New Jersey')].index.get_level_values(0).unique()\n",
    "\n",
    "fig, ax = plt.subplots(figsize=(16,12))\n",
    "\n",
    "for i in counties:\n",
    "    df.loc[('New Jersey', i)].cases.plot()\n",
    "    \n",
    "plt.title(\"Cumulative COVID-19 Cases\")\n",
    "ax.legend(counties)\n",
    "plt.ylabel('Cumulative Reported Cases')\n",
    "plt.grid(True) \n",
    "'''"
   ]
  },
  {
   "cell_type": "code",
   "execution_count": null,
   "metadata": {
    "scrolled": true
   },
   "outputs": [],
   "source": [
    "dates = sorted(df.index.get_level_values(2).unique())\n",
    "dates"
   ]
  },
  {
   "cell_type": "code",
   "execution_count": null,
   "metadata": {},
   "outputs": [],
   "source": []
  },
  {
   "cell_type": "code",
   "execution_count": null,
   "metadata": {
    "scrolled": false
   },
   "outputs": [],
   "source": [
    "bydates = df.reset_index().set_index('date').sort_index()\n",
    "bydates.loc['2020-05-31']"
   ]
  },
  {
   "cell_type": "code",
   "execution_count": null,
   "metadata": {},
   "outputs": [],
   "source": [
    "bydates.index.unique()"
   ]
  },
  {
   "cell_type": "code",
   "execution_count": null,
   "metadata": {},
   "outputs": [],
   "source": [
    "date = bydates.index.unique()[-1]\n",
    "bydates.loc[date]"
   ]
  },
  {
   "cell_type": "code",
   "execution_count": null,
   "metadata": {},
   "outputs": [],
   "source": [
    "d = df.loc[('Washington','King')].head()\n",
    "d"
   ]
  },
  {
   "cell_type": "code",
   "execution_count": null,
   "metadata": {},
   "outputs": [],
   "source": [
    "d[['cases','deaths']].iloc[3]"
   ]
  },
  {
   "cell_type": "code",
   "execution_count": null,
   "metadata": {},
   "outputs": [],
   "source": []
  },
  {
   "cell_type": "code",
   "execution_count": null,
   "metadata": {},
   "outputs": [],
   "source": [
    "dailynums(d,['cases','deaths']) # test to see if it's working "
   ]
  },
  {
   "cell_type": "markdown",
   "metadata": {},
   "source": [
    "### Underlying US County and State Boundary Maps\n",
    "\n",
    "The data was obtained through the the US Census Bereau, which provided the `.shp` files of the boudary data. An [online file conversion tool](https://mygeodata.cloud/converter/) was then used to generate `geojson` files from the raw boundary data. \n",
    "\n",
    "- https://www.census.gov/geographies/mapping-files/time-series/geo/carto-boundary-file.html\n",
    "- https://eric.clst.org/tech/usgeojson/\n",
    "\n",
    "- https://github.com/johan/world.geo.json/tree/master/countries/USA\n",
    "\n",
    "\n",
    "- [State FIPS Codes](https://www.nrcs.usda.gov/wps/portal/nrcs/detail/?cid=nrcs143_013696)\n",
    "- [County FIPS Codes](https://www.nrcs.usda.gov/wps/portal/nrcs/detail/national/home/?cid=nrcs143_013697)"
   ]
  },
  {
   "cell_type": "code",
   "execution_count": null,
   "metadata": {},
   "outputs": [],
   "source": []
  },
  {
   "cell_type": "code",
   "execution_count": null,
   "metadata": {
    "scrolled": true
   },
   "outputs": [],
   "source": []
  },
  {
   "cell_type": "code",
   "execution_count": null,
   "metadata": {},
   "outputs": [],
   "source": [
    "# Getting to know GEOJSON file:\n",
    "county = geopandas.read_file(\"data/cb_2018_us_county_20m.geojson\")\n",
    "county.head()"
   ]
  },
  {
   "cell_type": "markdown",
   "metadata": {},
   "source": [
    "## __Action item:__ \n",
    "merge `STATEFP` and `postal code` to make it easier to read\n",
    "\n",
    "## __Action item:__ \n",
    "filter by postal codes instead of fips for same reason"
   ]
  },
  {
   "cell_type": "code",
   "execution_count": null,
   "metadata": {},
   "outputs": [],
   "source": [
    "# Exclude Alaska, Hawaii, American Samoa, Guam, Northern Mariana Islands, Puerto Rico, and the Virgin Islands for now\n",
    "states = county[county['STATEFP'].isin(['02','15','60','66','69','72','78']) == False]"
   ]
  },
  {
   "cell_type": "code",
   "execution_count": null,
   "metadata": {
    "scrolled": false
   },
   "outputs": [],
   "source": [
    "states.plot(figsize=(30,20), \n",
    "            color='#3B3C6E',\n",
    "            linewidth=0.1)\n",
    "\n",
    "plt.axis('off')\n",
    "plt.show()"
   ]
  },
  {
   "cell_type": "code",
   "execution_count": null,
   "metadata": {},
   "outputs": [],
   "source": [
    "# County map of Washington State\n",
    "WA = county[county['STATEFP'].isin(['53']) == True]\n",
    "\n",
    "WA.plot(figsize=(30,20), color='#3B3C6E')\n",
    "plt.axis('off')\n",
    "plt.show()"
   ]
  },
  {
   "cell_type": "code",
   "execution_count": null,
   "metadata": {
    "scrolled": true
   },
   "outputs": [],
   "source": []
  },
  {
   "cell_type": "markdown",
   "metadata": {},
   "source": [
    "### Making the Choropleths\n",
    "\n",
    "\"When making choropleths, it is important to always use a variable that is normalized for the area being plotted. Further, by using a classification scheme instead of a continuous color scale, we can make the map more easily interpretable.\"\n",
    "\n",
    "To make the [choropleth map](https://geopandas.readthedocs.io/en/latest/mapping.html) I’ll need to do something like:\n",
    "\n",
    "`covid19_county_data.plot(column=’cases’, scheme=quantile, k=12, cmap=’Purples’)`\n",
    "\n",
    "- The color scheme is a graduated sequential scheme\n",
    "    - I.e. `categorical=False`\n"
   ]
  },
  {
   "cell_type": "markdown",
   "metadata": {},
   "source": [
    "__Action item:__ create a function that takes a geopandas DF and loops through each date and creates a choropleth based on the number of cases/100k"
   ]
  },
  {
   "cell_type": "code",
   "execution_count": null,
   "metadata": {},
   "outputs": [],
   "source": [
    "newcasesWA = df.loc[('Washington')]\n",
    "\n",
    "new = newcasesWA[newcasesWA.index.get_level_values(1) == dates[-1]].swaplevel(0,1).reset_index(1)\n",
    "new.columns = ['NAME','new_cases']\n",
    "merged = pd.merge_ordered(WA, new, how='left', on='NAME').fillna(0)\n",
    "    \n",
    "merged.plot()#column='new cases', cmap='BuGn', edgecolor='black') \n",
    "    \n",
    "plt.title('New COVID-19 cases on '+str(d)[:10],fontsize=25)\n",
    "plt.axis('off')\n",
    "#plt.savefig('figs/New COVID-19 cases on '+str(d)[:10]);\n",
    "plt.show()"
   ]
  },
  {
   "cell_type": "code",
   "execution_count": null,
   "metadata": {},
   "outputs": [],
   "source": []
  },
  {
   "cell_type": "code",
   "execution_count": null,
   "metadata": {
    "scrolled": false
   },
   "outputs": [],
   "source": []
  },
  {
   "cell_type": "code",
   "execution_count": null,
   "metadata": {},
   "outputs": [],
   "source": []
  },
  {
   "cell_type": "code",
   "execution_count": null,
   "metadata": {},
   "outputs": [],
   "source": []
  },
  {
   "cell_type": "markdown",
   "metadata": {},
   "source": [
    "### Animation\n",
    "\n",
    "- Make animation of new cases vs time\n",
    "\n",
    "\n",
    "- Number of total infections vs time"
   ]
  },
  {
   "cell_type": "code",
   "execution_count": null,
   "metadata": {},
   "outputs": [],
   "source": []
  },
  {
   "cell_type": "code",
   "execution_count": null,
   "metadata": {},
   "outputs": [],
   "source": []
  },
  {
   "cell_type": "code",
   "execution_count": null,
   "metadata": {},
   "outputs": [],
   "source": []
  }
 ],
 "metadata": {
  "kernelspec": {
   "display_name": "Python 3",
   "language": "python",
   "name": "python3"
  },
  "language_info": {
   "codemirror_mode": {
    "name": "ipython",
    "version": 3
   },
   "file_extension": ".py",
   "mimetype": "text/x-python",
   "name": "python",
   "nbconvert_exporter": "python",
   "pygments_lexer": "ipython3",
   "version": "3.7.6"
  }
 },
 "nbformat": 4,
 "nbformat_minor": 2
}
